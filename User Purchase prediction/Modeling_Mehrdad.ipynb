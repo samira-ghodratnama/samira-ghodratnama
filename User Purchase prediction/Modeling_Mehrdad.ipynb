{
 "cells": [
  {
   "cell_type": "code",
   "execution_count": 156,
   "metadata": {},
   "outputs": [],
   "source": [
    "# Importing required libraries.\n",
    "import pandas as pd\n",
    "import numpy as np\n",
    "import seaborn as sns #visualisation\n",
    "import matplotlib.pyplot as plt #visualisation\n",
    "%matplotlib inline \n",
    "sns.set(color_codes=True)"
   ]
  },
  {
   "cell_type": "code",
   "execution_count": 157,
   "metadata": {},
   "outputs": [],
   "source": [
    "users = pd.read_csv(\"01_users.csv\")\n",
    "trs = pd.read_csv(\"02_transactions.csv\")\n",
    "trs_detail = pd.read_csv(\"03_transaction_details.csv\")"
   ]
  },
  {
   "cell_type": "code",
   "execution_count": 158,
   "metadata": {},
   "outputs": [
    {
     "name": "stdout",
     "output_type": "stream",
     "text": [
      "User data type is \n",
      "  user_id           object\n",
      "unique_user_id    object\n",
      "user_loc_state     int64\n",
      "dtype: object \n",
      "\n",
      "===========================\n",
      "Transaction data type is \n",
      " transaction_id                  object\n",
      "user_id                         object\n",
      "status                          object\n",
      "transaction_timestamp           object\n",
      "delivery_timestamp              object\n",
      "estimated_delivery_timestamp    object\n",
      "dtype: object \n",
      "\n",
      "===========================\n",
      "Transaction detail data type is \n",
      " transaction_id        object\n",
      "payment_mode          object\n",
      "num_installments       int64\n",
      "transaction_value    float64\n",
      "dtype: object \n",
      "\n",
      "===========================\n"
     ]
    }
   ],
   "source": [
    "print('User data type is \\n ',users.dtypes,'\\n')\n",
    "print('===========================')\n",
    "print('Transaction data type is \\n', trs.dtypes, '\\n')\n",
    "print('===========================')\n",
    "print('Transaction detail data type is \\n', trs_detail.dtypes, '\\n')\n",
    "print('===========================')"
   ]
  },
  {
   "cell_type": "markdown",
   "metadata": {},
   "source": [
    "### Check for any NA"
   ]
  },
  {
   "cell_type": "code",
   "execution_count": 159,
   "metadata": {},
   "outputs": [
    {
     "data": {
      "text/plain": [
       "user_id           False\n",
       "unique_user_id    False\n",
       "user_loc_state    False\n",
       "dtype: bool"
      ]
     },
     "execution_count": 159,
     "metadata": {},
     "output_type": "execute_result"
    }
   ],
   "source": [
    "users.isna().any()"
   ]
  },
  {
   "cell_type": "code",
   "execution_count": 160,
   "metadata": {},
   "outputs": [
    {
     "data": {
      "text/plain": [
       "transaction_id                  False\n",
       "user_id                         False\n",
       "status                          False\n",
       "transaction_timestamp           False\n",
       "delivery_timestamp               True\n",
       "estimated_delivery_timestamp    False\n",
       "dtype: bool"
      ]
     },
     "execution_count": 160,
     "metadata": {},
     "output_type": "execute_result"
    }
   ],
   "source": [
    "trs.isna().any()"
   ]
  },
  {
   "cell_type": "code",
   "execution_count": 161,
   "metadata": {},
   "outputs": [
    {
     "data": {
      "text/plain": [
       "transaction_id       False\n",
       "payment_mode         False\n",
       "num_installments     False\n",
       "transaction_value    False\n",
       "dtype: bool"
      ]
     },
     "execution_count": 161,
     "metadata": {},
     "output_type": "execute_result"
    }
   ],
   "source": [
    "trs_detail.isna().any()"
   ]
  },
  {
   "cell_type": "code",
   "execution_count": 162,
   "metadata": {},
   "outputs": [
    {
     "data": {
      "text/plain": [
       "(0, 3)"
      ]
     },
     "execution_count": 162,
     "metadata": {},
     "output_type": "execute_result"
    }
   ],
   "source": [
    "# Find any duplicate users\n",
    "duplicate_users = users[users.duplicated()]\n",
    "duplicate_users.shape"
   ]
  },
  {
   "cell_type": "code",
   "execution_count": 163,
   "metadata": {},
   "outputs": [
    {
     "data": {
      "text/plain": [
       "(0, 6)"
      ]
     },
     "execution_count": 163,
     "metadata": {},
     "output_type": "execute_result"
    }
   ],
   "source": [
    "# Find any duplicate transactions\n",
    "duplicate_trs = trs[trs.duplicated()]\n",
    "duplicate_trs.shape"
   ]
  },
  {
   "cell_type": "code",
   "execution_count": 164,
   "metadata": {},
   "outputs": [
    {
     "data": {
      "text/plain": [
       "(614, 4)"
      ]
     },
     "execution_count": 164,
     "metadata": {},
     "output_type": "execute_result"
    }
   ],
   "source": [
    "# Find any duplicate transactions details\n",
    "duplicate_trs_detail = trs_detail[trs_detail.duplicated()]\n",
    "duplicate_trs_detail.shape"
   ]
  },
  {
   "cell_type": "code",
   "execution_count": 165,
   "metadata": {},
   "outputs": [],
   "source": [
    "# Dropping the duplicates\n",
    "users = users.drop_duplicates()\n",
    "trs = trs.drop_duplicates()\n",
    "trs_detail = trs_detail.drop_duplicates()"
   ]
  },
  {
   "cell_type": "code",
   "execution_count": 166,
   "metadata": {},
   "outputs": [
    {
     "data": {
      "text/plain": [
       "(103272, 9)"
      ]
     },
     "execution_count": 166,
     "metadata": {},
     "output_type": "execute_result"
    }
   ],
   "source": [
    "# Merging transaction and transaction_details into one dataset\n",
    "transactions = pd.merge(trs, trs_detail, on='transaction_id')\n",
    "transactions.shape"
   ]
  },
  {
   "cell_type": "code",
   "execution_count": 167,
   "metadata": {},
   "outputs": [],
   "source": [
    "# Merge the users and transactions to make a complete dataset\n",
    "complete = pd.merge(users,transactions, on = \"user_id\")"
   ]
  },
  {
   "cell_type": "markdown",
   "metadata": {},
   "source": [
    "## Q1\n",
    "How scattered are the users statewise?"
   ]
  },
  {
   "cell_type": "markdown",
   "metadata": {},
   "source": [
    "## Q2\n",
    "How users buying behavior scattered based on months?"
   ]
  },
  {
   "cell_type": "markdown",
   "metadata": {},
   "source": [
    "## Q3\n",
    "How scattered are the users statewise?"
   ]
  },
  {
   "cell_type": "markdown",
   "metadata": {},
   "source": [
    "## Q4\n",
    "What are the users mostly used payment methods?"
   ]
  },
  {
   "cell_type": "code",
   "execution_count": 168,
   "metadata": {},
   "outputs": [
    {
     "data": {
      "image/png": "[encoded data removed]",
      "text/plain": [
       "<Figure size 1080x720 with 1 Axes>"
      ]
     },
     "metadata": {},
     "output_type": "display_data"
    }
   ],
   "source": [
    "payment_method = complete[[\"user_id\",\"payment_mode\"]]\n",
    "sectors = payment_method.groupby(\"payment_mode\")\n",
    "payment_method = pd.DataFrame(sectors[\"user_id\"].count())\n",
    "payment_method.rename(columns= {'user_id': 'Num. of users'}, inplace=True)\n",
    "payment_method\n",
    "ax = payment_method[['Num. of users']].plot.bar(title='Users by payment method', legend = True, table = False, grid = False,\n",
    "                                                subplots = False, figsize = (15,10), fontsize=15)"
   ]
  },
  {
   "cell_type": "markdown",
   "metadata": {},
   "source": [
    "## Q5\n",
    "What is the rate of cancelled transactions?"
   ]
  },
  {
   "cell_type": "code",
   "execution_count": 169,
   "metadata": {},
   "outputs": [
    {
     "name": "stdout",
     "output_type": "stream",
     "text": [
      "The percentage of canceled transactions are:  0.632\n"
     ]
    }
   ],
   "source": [
    "records = complete.size\n",
    "canceled = complete[complete.status=='canceled'].size\n",
    "print('The percentage of canceled transactions are: ', round((canceled/records) * 100,3))"
   ]
  },
  {
   "cell_type": "markdown",
   "metadata": {},
   "source": [
    "### Q6\n",
    "Feature correlations"
   ]
  },
  {
   "cell_type": "code",
   "execution_count": 170,
   "metadata": {},
   "outputs": [
    {
     "data": {
      "text/html": [
       "<div>\n",
       "<style scoped>\n",
       "    .dataframe tbody tr th:only-of-type {\n",
       "        vertical-align: middle;\n",
       "    }\n",
       "\n",
       "    .dataframe tbody tr th {\n",
       "        vertical-align: top;\n",
       "    }\n",
       "\n",
       "    .dataframe thead th {\n",
       "        text-align: right;\n",
       "    }\n",
       "</style>\n",
       "<table border=\"1\" class=\"dataframe\">\n",
       "  <thead>\n",
       "    <tr style=\"text-align: right;\">\n",
       "      <th></th>\n",
       "      <th>user_loc_state</th>\n",
       "      <th>num_installments</th>\n",
       "      <th>transaction_value</th>\n",
       "    </tr>\n",
       "  </thead>\n",
       "  <tbody>\n",
       "    <tr>\n",
       "      <th>user_loc_state</th>\n",
       "      <td>1.000000</td>\n",
       "      <td>-0.064185</td>\n",
       "      <td>-0.055871</td>\n",
       "    </tr>\n",
       "    <tr>\n",
       "      <th>num_installments</th>\n",
       "      <td>-0.064185</td>\n",
       "      <td>1.000000</td>\n",
       "      <td>0.329222</td>\n",
       "    </tr>\n",
       "    <tr>\n",
       "      <th>transaction_value</th>\n",
       "      <td>-0.055871</td>\n",
       "      <td>0.329222</td>\n",
       "      <td>1.000000</td>\n",
       "    </tr>\n",
       "  </tbody>\n",
       "</table>\n",
       "</div>"
      ],
      "text/plain": [
       "                   user_loc_state  num_installments  transaction_value\n",
       "user_loc_state           1.000000         -0.064185          -0.055871\n",
       "num_installments        -0.064185          1.000000           0.329222\n",
       "transaction_value       -0.055871          0.329222           1.000000"
      ]
     },
     "execution_count": 170,
     "metadata": {},
     "output_type": "execute_result"
    }
   ],
   "source": [
    "corr = complete.corr()\n",
    "corr\n",
    "#sns.heatmap(corr)"
   ]
  },
  {
   "cell_type": "markdown",
   "metadata": {},
   "source": [
    "### Q7\n",
    "Payment mode vs loc_state vs num installment"
   ]
  },
  {
   "cell_type": "markdown",
   "metadata": {},
   "source": [
    "### Q8\n",
    "Find total amount of transactions, then find they users who are making multiple transactions\n",
    "\n",
    "Find their ratio of transactions over total transactions of users with multiple transactions and compare it with average of user transaction (number of users over total of transaction)\n",
    "\n",
    "Calculate the number of users who are buying above or equal to average"
   ]
  },
  {
   "cell_type": "markdown",
   "metadata": {},
   "source": [
    "## Predicting"
   ]
  },
  {
   "cell_type": "code",
   "execution_count": 171,
   "metadata": {},
   "outputs": [],
   "source": [
    "# unique_user_trs = pd.merge(trs, users, on = \"user_id\")\n",
    "# transaction_per_user = unique_user_trs.groupby('user_id').count()\n",
    "# unique_users = pd.DataFrame(complete['user_id'].unique())\n",
    "# users_trs = pd.merge(unique_users,transactions, on = \"user_id\")\n",
    "# unique_users\n",
    "# complete['next_purchase_day'] = (complete[''] - complete['']).dt.days\n",
    "\n",
    "# complete['six_months'] = complete[pd.Timestamp.now < complete['transaction_timestamp'] < ]\n",
    "# complete['three_months']\n",
    "# complete['one_month']"
   ]
  },
  {
   "cell_type": "code",
   "execution_count": 172,
   "metadata": {},
   "outputs": [],
   "source": [
    "complete['transaction_timestamp'] = pd.to_datetime(complete['transaction_timestamp'])\n",
    "start_day = complete['transaction_timestamp'].min()\n",
    "end_day = complete['transaction_timestamp'].max()"
   ]
  },
  {
   "cell_type": "code",
   "execution_count": 173,
   "metadata": {},
   "outputs": [
    {
     "data": {
      "text/html": [
       "<div>\n",
       "<style scoped>\n",
       "    .dataframe tbody tr th:only-of-type {\n",
       "        vertical-align: middle;\n",
       "    }\n",
       "\n",
       "    .dataframe tbody tr th {\n",
       "        vertical-align: top;\n",
       "    }\n",
       "\n",
       "    .dataframe thead tr th {\n",
       "        text-align: left;\n",
       "    }\n",
       "\n",
       "    .dataframe thead tr:last-of-type th {\n",
       "        text-align: right;\n",
       "    }\n",
       "</style>\n",
       "<table border=\"1\" class=\"dataframe\">\n",
       "  <thead>\n",
       "    <tr>\n",
       "      <th></th>\n",
       "      <th>user_id</th>\n",
       "      <th>user_loc_state</th>\n",
       "    </tr>\n",
       "    <tr>\n",
       "      <th></th>\n",
       "      <th>sum</th>\n",
       "      <th>sum</th>\n",
       "    </tr>\n",
       "    <tr>\n",
       "      <th>unique_user_id</th>\n",
       "      <th></th>\n",
       "      <th></th>\n",
       "    </tr>\n",
       "  </thead>\n",
       "  <tbody>\n",
       "    <tr>\n",
       "      <th>0003322h53dgi8e8hfeg38d5610f1354</th>\n",
       "      <td>1</td>\n",
       "      <td>1</td>\n",
       "    </tr>\n",
       "    <tr>\n",
       "      <th>000344h2h9f56195h333h30f6f47f7g7</th>\n",
       "      <td>1</td>\n",
       "      <td>1</td>\n",
       "    </tr>\n",
       "    <tr>\n",
       "      <th>000408770eg657ihh96iid5d6235deh4</th>\n",
       "      <td>1</td>\n",
       "      <td>1</td>\n",
       "    </tr>\n",
       "    <tr>\n",
       "      <th>00042d3e95h394ei95094e911edf3610</th>\n",
       "      <td>1</td>\n",
       "      <td>1</td>\n",
       "    </tr>\n",
       "    <tr>\n",
       "      <th>0004807g89271401hif2fgefgd5dii22</th>\n",
       "      <td>1</td>\n",
       "      <td>1</td>\n",
       "    </tr>\n",
       "    <tr>\n",
       "      <th>...</th>\n",
       "      <td>...</td>\n",
       "      <td>...</td>\n",
       "    </tr>\n",
       "    <tr>\n",
       "      <th>iiifi6d6ii18e1019eg5h3gef846d795</th>\n",
       "      <td>1</td>\n",
       "      <td>1</td>\n",
       "    </tr>\n",
       "    <tr>\n",
       "      <th>iiihd58fg7g4ff1d99eg732673d0g172</th>\n",
       "      <td>1</td>\n",
       "      <td>1</td>\n",
       "    </tr>\n",
       "    <tr>\n",
       "      <th>iiii482e5g756e7hfhd355e38642541d</th>\n",
       "      <td>1</td>\n",
       "      <td>1</td>\n",
       "    </tr>\n",
       "    <tr>\n",
       "      <th>iiii6073839hf7268144hi0916edff59</th>\n",
       "      <td>1</td>\n",
       "      <td>1</td>\n",
       "    </tr>\n",
       "    <tr>\n",
       "      <th>iiiig3768h3ddg3018h78f4h0gdhfehe</th>\n",
       "      <td>1</td>\n",
       "      <td>1</td>\n",
       "    </tr>\n",
       "  </tbody>\n",
       "</table>\n",
       "<p>96096 rows × 2 columns</p>\n",
       "</div>"
      ],
      "text/plain": [
       "                                 user_id user_loc_state\n",
       "                                     sum            sum\n",
       "unique_user_id                                         \n",
       "0003322h53dgi8e8hfeg38d5610f1354       1              1\n",
       "000344h2h9f56195h333h30f6f47f7g7       1              1\n",
       "000408770eg657ihh96iid5d6235deh4       1              1\n",
       "00042d3e95h394ei95094e911edf3610       1              1\n",
       "0004807g89271401hif2fgefgd5dii22       1              1\n",
       "...                                  ...            ...\n",
       "iiifi6d6ii18e1019eg5h3gef846d795       1              1\n",
       "iiihd58fg7g4ff1d99eg732673d0g172       1              1\n",
       "iiii482e5g756e7hfhd355e38642541d       1              1\n",
       "iiii6073839hf7268144hi0916edff59       1              1\n",
       "iiiig3768h3ddg3018h78f4h0gdhfehe       1              1\n",
       "\n",
       "[96096 rows x 2 columns]"
      ]
     },
     "execution_count": 173,
     "metadata": {},
     "output_type": "execute_result"
    }
   ],
   "source": [
    "test = users.groupby(\"unique_user_id\").nunique()\n",
    "x=test.groupby(\"unique_user_id\").agg(['sum'])\n",
    "x"
   ]
  },
  {
   "cell_type": "code",
   "execution_count": 174,
   "metadata": {},
   "outputs": [],
   "source": [
    "test=pd.DataFrame()\n",
    "test['No purchase'] = users['unique_user_id'].value_counts()"
   ]
  },
  {
   "cell_type": "code",
   "execution_count": 175,
   "metadata": {},
   "outputs": [],
   "source": [
    "test['user_id'] = users['unique_user_id'].value_counts().index.tolist()"
   ]
  },
  {
   "cell_type": "code",
   "execution_count": 176,
   "metadata": {},
   "outputs": [
    {
     "data": {
      "text/plain": [
       "(103272, 11)"
      ]
     },
     "execution_count": 176,
     "metadata": {},
     "output_type": "execute_result"
    }
   ],
   "source": [
    "# test = pd.merge(test,complete, left_on = 'user_id')\n",
    "complete.shape"
   ]
  },
  {
   "cell_type": "markdown",
   "metadata": {},
   "source": [
    "# A new Beginning"
   ]
  },
  {
   "cell_type": "code",
   "execution_count": 177,
   "metadata": {},
   "outputs": [],
   "source": [
    "complete['transaction_timestamp'] = pd.to_datetime(complete['transaction_timestamp'])\n",
    "start_day = complete['transaction_timestamp'].min()\n",
    "end_day = complete['transaction_timestamp'].max()\n",
    "last_sm = complete[(complete.transaction_timestamp >= end_day-pd.DateOffset(months=6))]\n",
    "before_time = complete[(complete.transaction_timestamp < end_day-pd.DateOffset(months=6))]\n",
    "tx_user = pd.DataFrame(before_time['unique_user_id'].unique())\n",
    "tx_user.columns = ['unique_user_id']\n",
    "tx_next_purchase = last_sm.groupby('unique_user_id').transaction_timestamp.min().reset_index()\n",
    "tx_next_purchase.columns = ['unique_user_id','minPurchaseDate']\n",
    "tx_last_purchase = before_time.groupby('unique_user_id').transaction_timestamp.max().reset_index()\n",
    "tx_last_purchase.columns = ['unique_user_id','maxPurchaseDate']\n",
    "tx_purchase_date = pd.merge(tx_last_purchase, tx_next_purchase, on = 'unique_user_id', how = 'left')\n",
    "tx_purchase_date['nextPurchaseDate'] = (tx_purchase_date['minPurchaseDate'] - tx_purchase_date['maxPurchaseDate']).dt.days"
   ]
  },
  {
   "cell_type": "code",
   "execution_count": 178,
   "metadata": {},
   "outputs": [],
   "source": [
    "tx_user = pd.merge(tx_user,tx_purchase_date[['unique_user_id', 'nextPurchaseDate']], on = 'unique_user_id', how = 'left')\n",
    "# tx_user.isnull().sum(axis=1)\n",
    "# 2/3 of the data has label na, I have data imbalance problem\n",
    "tx_user = tx_user.fillna(999)"
   ]
  },
  {
   "cell_type": "code",
   "execution_count": 179,
   "metadata": {},
   "outputs": [],
   "source": [
    "\n",
    "tx_user = pd.merge(tx_user,last_sm[['unique_user_id', 'user_loc_state']], on = 'unique_user_id', how = 'left')"
   ]
  },
  {
   "cell_type": "code",
   "execution_count": 180,
   "metadata": {},
   "outputs": [],
   "source": [
    "# Build recency\n",
    "# get max purchase date for Recency and create a dataframe\n",
    "tx_max_purchase = last_sm.groupby('unique_user_id').transaction_timestamp.max().reset_index()\n",
    "tx_max_purchase.columns = ['unique_user_id','maxPurchaseDate']\n",
    "\n",
    "#find the recency in days and add it to tx_user\n",
    "tx_max_purchase['Recency'] = (tx_max_purchase['maxPurchaseDate'].max() - tx_max_purchase['maxPurchaseDate']).dt.days\n",
    "tx_user = pd.merge(tx_user, tx_max_purchase[['unique_user_id','Recency']], on='unique_user_id')"
   ]
  },
  {
   "cell_type": "code",
   "execution_count": 194,
   "metadata": {},
   "outputs": [
    {
     "data": {
      "application/vnd.plotly.v1+json": {
       "config": {
        "linkText": "Export to plot.ly",
        "plotlyServerURL": "https://plot.ly",
        "showLink": false
       },
       "data": [
        {
         "type": "histogram",
         "x": [
          72,
          57,
          74,
          78,
          78,
          59,
          58,
          69,
          76,
          64,
          69,
          75,
          75,
          53,
          70,
          58,
          73,
          71,
          65,
          65,
          73,
          69,
          65,
          56,
          59,
          59,
          76,
          76,
          64,
          55,
          71,
          60,
          60,
          79,
          60,
          63,
          80,
          70,
          64,
          66,
          63,
          77,
          58,
          73,
          55,
          62,
          56,
          72,
          57,
          75,
          75,
          79,
          64,
          71,
          60,
          49,
          60,
          68,
          68,
          71,
          74,
          67,
          59,
          78,
          64,
          64,
          64,
          71,
          62,
          62,
          73,
          56,
          63,
          68,
          73,
          75,
          62,
          62,
          76,
          60,
          74,
          80,
          74,
          71,
          69,
          80,
          55,
          73,
          73,
          78,
          78,
          57,
          57,
          57,
          57,
          57,
          57,
          57,
          73,
          76,
          79,
          75,
          61,
          72,
          64,
          74,
          63,
          54,
          63,
          69,
          76,
          76,
          74,
          58,
          63,
          57,
          57,
          79,
          68,
          65,
          70,
          50,
          76,
          78,
          70,
          52,
          62,
          68,
          75,
          79,
          53,
          74,
          73,
          63,
          71,
          64,
          60,
          77,
          77,
          81,
          81,
          72,
          55,
          52,
          53,
          67,
          143,
          136,
          131,
          131,
          128,
          128,
          128,
          128,
          128,
          128,
          130,
          124,
          136,
          124,
          125,
          122,
          131,
          123,
          123,
          123,
          123,
          126,
          133,
          141,
          137,
          137,
          128,
          145,
          139,
          131,
          113,
          125,
          127,
          127,
          121,
          139,
          122,
          122,
          132,
          134,
          116,
          132,
          119,
          119,
          120,
          120,
          126,
          120,
          128,
          139,
          139,
          138,
          138,
          138,
          138,
          118,
          139,
          131,
          118,
          137,
          129,
          133,
          121,
          121,
          121,
          142,
          135,
          121,
          127,
          121,
          128,
          144,
          135,
          141,
          130,
          143,
          113,
          133,
          141,
          126,
          119,
          132,
          136,
          118,
          131,
          113,
          117,
          137,
          125,
          116,
          135,
          144,
          126,
          113,
          143,
          117,
          117,
          131,
          141,
          127,
          133,
          115,
          125,
          146,
          136,
          120,
          128,
          135,
          134,
          132,
          124,
          136,
          118,
          118,
          131,
          126,
          142,
          135,
          122,
          131,
          133,
          119,
          135,
          130,
          146,
          145,
          145,
          131,
          118,
          115,
          115,
          126,
          129,
          120,
          136,
          119,
          116,
          139,
          120,
          120,
          115,
          146,
          122,
          119,
          129,
          135,
          135,
          124,
          114,
          114,
          138,
          141,
          130,
          127,
          113,
          115,
          128,
          125,
          114,
          122,
          115,
          115,
          122,
          125,
          131,
          132,
          132,
          124,
          118,
          117,
          143,
          143,
          86,
          95,
          90,
          94,
          85,
          103,
          104,
          98,
          103,
          103,
          102,
          87,
          86,
          91,
          91,
          85,
          85,
          109,
          88,
          90,
          86,
          108,
          96,
          103,
          91,
          99,
          85,
          109,
          89,
          112,
          112,
          88,
          103,
          104,
          93,
          105,
          94,
          91,
          85,
          106,
          91,
          82,
          94,
          88,
          84,
          89,
          89,
          84,
          108,
          95,
          85,
          107,
          92,
          110,
          83,
          89,
          82,
          92,
          111,
          90,
          85,
          105,
          99,
          107,
          109,
          104,
          105,
          110,
          103,
          111,
          103,
          83,
          110,
          89,
          109,
          83,
          104,
          90,
          111,
          106,
          104,
          92,
          92,
          111,
          99,
          107,
          90,
          111,
          99,
          111,
          84,
          84,
          86,
          111,
          104,
          101,
          87,
          92,
          104,
          95,
          85,
          88,
          87,
          87,
          84,
          101,
          100,
          85,
          83,
          90,
          182,
          167,
          176,
          173,
          170,
          156,
          156,
          168,
          149,
          173,
          165,
          150,
          168,
          168,
          168,
          178,
          153,
          163,
          177,
          171,
          153,
          155,
          176,
          155,
          167,
          180,
          172,
          163,
          159,
          167,
          175,
          170,
          149,
          182,
          160,
          181,
          161,
          171,
          181,
          166,
          167,
          151,
          182,
          154,
          177,
          152,
          176,
          160,
          160,
          160,
          176,
          172,
          155,
          151,
          164,
          165,
          163,
          153,
          163,
          166,
          170,
          147,
          147,
          181,
          158,
          181,
          158,
          167,
          177,
          182,
          172,
          175,
          155,
          155,
          149,
          167,
          156,
          162,
          162,
          170,
          177,
          160,
          161,
          160,
          160,
          164,
          166,
          155,
          167,
          159,
          148,
          163,
          163,
          161,
          180,
          161,
          160,
          170,
          182,
          175,
          179,
          160,
          168,
          180,
          178,
          164,
          173,
          160,
          175,
          159,
          172,
          158,
          177,
          172,
          157,
          157,
          181,
          175,
          169,
          169,
          173,
          148,
          148,
          175,
          170,
          152,
          151,
          167,
          176,
          176,
          158,
          163,
          175,
          166,
          149,
          162,
          152,
          165,
          148,
          156,
          156,
          161,
          166,
          149,
          163,
          148,
          161,
          147,
          148,
          171,
          162,
          158,
          165,
          163,
          148,
          169,
          177,
          148,
          167,
          162,
          159,
          181,
          163,
          179,
          179,
          153,
          154,
          156,
          156,
          168,
          172,
          157,
          172,
          177,
          167,
          167,
          176,
          169,
          171,
          169,
          172,
          166,
          175,
          163,
          152,
          161,
          164,
          148,
          147,
          151,
          154,
          154,
          178,
          176,
          176,
          176,
          180,
          180,
          147,
          170,
          176,
          173,
          166,
          178,
          163,
          149,
          161,
          177,
          174,
          174,
          176,
          181,
          153,
          153,
          155,
          160,
          160,
          156,
          170,
          178,
          178,
          156,
          173,
          161,
          164,
          158,
          161
         ]
        }
       ],
       "layout": {
        "template": {
         "data": {
          "bar": [
           {
            "error_x": {
             "color": "#2a3f5f"
            },
            "error_y": {
             "color": "#2a3f5f"
            },
            "marker": {
             "line": {
              "color": "#E5ECF6",
              "width": 0.5
             },
             "pattern": {
              "fillmode": "overlay",
              "size": 10,
              "solidity": 0.2
             }
            },
            "type": "bar"
           }
          ],
          "barpolar": [
           {
            "marker": {
             "line": {
              "color": "#E5ECF6",
              "width": 0.5
             },
             "pattern": {
              "fillmode": "overlay",
              "size": 10,
              "solidity": 0.2
             }
            },
            "type": "barpolar"
           }
          ],
          "carpet": [
           {
            "aaxis": {
             "endlinecolor": "#2a3f5f",
             "gridcolor": "white",
             "linecolor": "white",
             "minorgridcolor": "white",
             "startlinecolor": "#2a3f5f"
            },
            "baxis": {
             "endlinecolor": "#2a3f5f",
             "gridcolor": "white",
             "linecolor": "white",
             "minorgridcolor": "white",
             "startlinecolor": "#2a3f5f"
            },
            "type": "carpet"
           }
          ],
          "choropleth": [
           {
            "colorbar": {
             "outlinewidth": 0,
             "ticks": ""
            },
            "type": "choropleth"
           }
          ],
          "contour": [
           {
            "colorbar": {
             "outlinewidth": 0,
             "ticks": ""
            },
            "colorscale": [
             [
              0,
              "#0d0887"
             ],
             [
              0.1111111111111111,
              "#46039f"
             ],
             [
              0.2222222222222222,
              "#7201a8"
             ],
             [
              0.3333333333333333,
              "#9c179e"
             ],
             [
              0.4444444444444444,
              "#bd3786"
             ],
             [
              0.5555555555555556,
              "#d8576b"
             ],
             [
              0.6666666666666666,
              "#ed7953"
             ],
             [
              0.7777777777777778,
              "#fb9f3a"
             ],
             [
              0.8888888888888888,
              "#fdca26"
             ],
             [
              1,
              "#f0f921"
             ]
            ],
            "type": "contour"
           }
          ],
          "contourcarpet": [
           {
            "colorbar": {
             "outlinewidth": 0,
             "ticks": ""
            },
            "type": "contourcarpet"
           }
          ],
          "heatmap": [
           {
            "colorbar": {
             "outlinewidth": 0,
             "ticks": ""
            },
            "colorscale": [
             [
              0,
              "#0d0887"
             ],
             [
              0.1111111111111111,
              "#46039f"
             ],
             [
              0.2222222222222222,
              "#7201a8"
             ],
             [
              0.3333333333333333,
              "#9c179e"
             ],
             [
              0.4444444444444444,
              "#bd3786"
             ],
             [
              0.5555555555555556,
              "#d8576b"
             ],
             [
              0.6666666666666666,
              "#ed7953"
             ],
             [
              0.7777777777777778,
              "#fb9f3a"
             ],
             [
              0.8888888888888888,
              "#fdca26"
             ],
             [
              1,
              "#f0f921"
             ]
            ],
            "type": "heatmap"
           }
          ],
          "heatmapgl": [
           {
            "colorbar": {
             "outlinewidth": 0,
             "ticks": ""
            },
            "colorscale": [
             [
              0,
              "#0d0887"
             ],
             [
              0.1111111111111111,
              "#46039f"
             ],
             [
              0.2222222222222222,
              "#7201a8"
             ],
             [
              0.3333333333333333,
              "#9c179e"
             ],
             [
              0.4444444444444444,
              "#bd3786"
             ],
             [
              0.5555555555555556,
              "#d8576b"
             ],
             [
              0.6666666666666666,
              "#ed7953"
             ],
             [
              0.7777777777777778,
              "#fb9f3a"
             ],
             [
              0.8888888888888888,
              "#fdca26"
             ],
             [
              1,
              "#f0f921"
             ]
            ],
            "type": "heatmapgl"
           }
          ],
          "histogram": [
           {
            "marker": {
             "pattern": {
              "fillmode": "overlay",
              "size": 10,
              "solidity": 0.2
             }
            },
            "type": "histogram"
           }
          ],
          "histogram2d": [
           {
            "colorbar": {
             "outlinewidth": 0,
             "ticks": ""
            },
            "colorscale": [
             [
              0,
              "#0d0887"
             ],
             [
              0.1111111111111111,
              "#46039f"
             ],
             [
              0.2222222222222222,
              "#7201a8"
             ],
             [
              0.3333333333333333,
              "#9c179e"
             ],
             [
              0.4444444444444444,
              "#bd3786"
             ],
             [
              0.5555555555555556,
              "#d8576b"
             ],
             [
              0.6666666666666666,
              "#ed7953"
             ],
             [
              0.7777777777777778,
              "#fb9f3a"
             ],
             [
              0.8888888888888888,
              "#fdca26"
             ],
             [
              1,
              "#f0f921"
             ]
            ],
            "type": "histogram2d"
           }
          ],
          "histogram2dcontour": [
           {
            "colorbar": {
             "outlinewidth": 0,
             "ticks": ""
            },
            "colorscale": [
             [
              0,
              "#0d0887"
             ],
             [
              0.1111111111111111,
              "#46039f"
             ],
             [
              0.2222222222222222,
              "#7201a8"
             ],
             [
              0.3333333333333333,
              "#9c179e"
             ],
             [
              0.4444444444444444,
              "#bd3786"
             ],
             [
              0.5555555555555556,
              "#d8576b"
             ],
             [
              0.6666666666666666,
              "#ed7953"
             ],
             [
              0.7777777777777778,
              "#fb9f3a"
             ],
             [
              0.8888888888888888,
              "#fdca26"
             ],
             [
              1,
              "#f0f921"
             ]
            ],
            "type": "histogram2dcontour"
           }
          ],
          "mesh3d": [
           {
            "colorbar": {
             "outlinewidth": 0,
             "ticks": ""
            },
            "type": "mesh3d"
           }
          ],
          "parcoords": [
           {
            "line": {
             "colorbar": {
              "outlinewidth": 0,
              "ticks": ""
             }
            },
            "type": "parcoords"
           }
          ],
          "pie": [
           {
            "automargin": true,
            "type": "pie"
           }
          ],
          "scatter": [
           {
            "marker": {
             "colorbar": {
              "outlinewidth": 0,
              "ticks": ""
             }
            },
            "type": "scatter"
           }
          ],
          "scatter3d": [
           {
            "line": {
             "colorbar": {
              "outlinewidth": 0,
              "ticks": ""
             }
            },
            "marker": {
             "colorbar": {
              "outlinewidth": 0,
              "ticks": ""
             }
            },
            "type": "scatter3d"
           }
          ],
          "scattercarpet": [
           {
            "marker": {
             "colorbar": {
              "outlinewidth": 0,
              "ticks": ""
             }
            },
            "type": "scattercarpet"
           }
          ],
          "scattergeo": [
           {
            "marker": {
             "colorbar": {
              "outlinewidth": 0,
              "ticks": ""
             }
            },
            "type": "scattergeo"
           }
          ],
          "scattergl": [
           {
            "marker": {
             "colorbar": {
              "outlinewidth": 0,
              "ticks": ""
             }
            },
            "type": "scattergl"
           }
          ],
          "scattermapbox": [
           {
            "marker": {
             "colorbar": {
              "outlinewidth": 0,
              "ticks": ""
             }
            },
            "type": "scattermapbox"
           }
          ],
          "scatterpolar": [
           {
            "marker": {
             "colorbar": {
              "outlinewidth": 0,
              "ticks": ""
             }
            },
            "type": "scatterpolar"
           }
          ],
          "scatterpolargl": [
           {
            "marker": {
             "colorbar": {
              "outlinewidth": 0,
              "ticks": ""
             }
            },
            "type": "scatterpolargl"
           }
          ],
          "scatterternary": [
           {
            "marker": {
             "colorbar": {
              "outlinewidth": 0,
              "ticks": ""
             }
            },
            "type": "scatterternary"
           }
          ],
          "surface": [
           {
            "colorbar": {
             "outlinewidth": 0,
             "ticks": ""
            },
            "colorscale": [
             [
              0,
              "#0d0887"
             ],
             [
              0.1111111111111111,
              "#46039f"
             ],
             [
              0.2222222222222222,
              "#7201a8"
             ],
             [
              0.3333333333333333,
              "#9c179e"
             ],
             [
              0.4444444444444444,
              "#bd3786"
             ],
             [
              0.5555555555555556,
              "#d8576b"
             ],
             [
              0.6666666666666666,
              "#ed7953"
             ],
             [
              0.7777777777777778,
              "#fb9f3a"
             ],
             [
              0.8888888888888888,
              "#fdca26"
             ],
             [
              1,
              "#f0f921"
             ]
            ],
            "type": "surface"
           }
          ],
          "table": [
           {
            "cells": {
             "fill": {
              "color": "#EBF0F8"
             },
             "line": {
              "color": "white"
             }
            },
            "header": {
             "fill": {
              "color": "#C8D4E3"
             },
             "line": {
              "color": "white"
             }
            },
            "type": "table"
           }
          ]
         },
         "layout": {
          "annotationdefaults": {
           "arrowcolor": "#2a3f5f",
           "arrowhead": 0,
           "arrowwidth": 1
          },
          "autotypenumbers": "strict",
          "coloraxis": {
           "colorbar": {
            "outlinewidth": 0,
            "ticks": ""
           }
          },
          "colorscale": {
           "diverging": [
            [
             0,
             "#8e0152"
            ],
            [
             0.1,
             "#c51b7d"
            ],
            [
             0.2,
             "#de77ae"
            ],
            [
             0.3,
             "#f1b6da"
            ],
            [
             0.4,
             "#fde0ef"
            ],
            [
             0.5,
             "#f7f7f7"
            ],
            [
             0.6,
             "#e6f5d0"
            ],
            [
             0.7,
             "#b8e186"
            ],
            [
             0.8,
             "#7fbc41"
            ],
            [
             0.9,
             "#4d9221"
            ],
            [
             1,
             "#276419"
            ]
           ],
           "sequential": [
            [
             0,
             "#0d0887"
            ],
            [
             0.1111111111111111,
             "#46039f"
            ],
            [
             0.2222222222222222,
             "#7201a8"
            ],
            [
             0.3333333333333333,
             "#9c179e"
            ],
            [
             0.4444444444444444,
             "#bd3786"
            ],
            [
             0.5555555555555556,
             "#d8576b"
            ],
            [
             0.6666666666666666,
             "#ed7953"
            ],
            [
             0.7777777777777778,
             "#fb9f3a"
            ],
            [
             0.8888888888888888,
             "#fdca26"
            ],
            [
             1,
             "#f0f921"
            ]
           ],
           "sequentialminus": [
            [
             0,
             "#0d0887"
            ],
            [
             0.1111111111111111,
             "#46039f"
            ],
            [
             0.2222222222222222,
             "#7201a8"
            ],
            [
             0.3333333333333333,
             "#9c179e"
            ],
            [
             0.4444444444444444,
             "#bd3786"
            ],
            [
             0.5555555555555556,
             "#d8576b"
            ],
            [
             0.6666666666666666,
             "#ed7953"
            ],
            [
             0.7777777777777778,
             "#fb9f3a"
            ],
            [
             0.8888888888888888,
             "#fdca26"
            ],
            [
             1,
             "#f0f921"
            ]
           ]
          },
          "colorway": [
           "#636efa",
           "#EF553B",
           "#00cc96",
           "#ab63fa",
           "#FFA15A",
           "#19d3f3",
           "#FF6692",
           "#B6E880",
           "#FF97FF",
           "#FECB52"
          ],
          "font": {
           "color": "#2a3f5f"
          },
          "geo": {
           "bgcolor": "white",
           "lakecolor": "white",
           "landcolor": "#E5ECF6",
           "showlakes": true,
           "showland": true,
           "subunitcolor": "white"
          },
          "hoverlabel": {
           "align": "left"
          },
          "hovermode": "closest",
          "mapbox": {
           "style": "light"
          },
          "paper_bgcolor": "white",
          "plot_bgcolor": "#E5ECF6",
          "polar": {
           "angularaxis": {
            "gridcolor": "white",
            "linecolor": "white",
            "ticks": ""
           },
           "bgcolor": "#E5ECF6",
           "radialaxis": {
            "gridcolor": "white",
            "linecolor": "white",
            "ticks": ""
           }
          },
          "scene": {
           "xaxis": {
            "backgroundcolor": "#E5ECF6",
            "gridcolor": "white",
            "gridwidth": 2,
            "linecolor": "white",
            "showbackground": true,
            "ticks": "",
            "zerolinecolor": "white"
           },
           "yaxis": {
            "backgroundcolor": "#E5ECF6",
            "gridcolor": "white",
            "gridwidth": 2,
            "linecolor": "white",
            "showbackground": true,
            "ticks": "",
            "zerolinecolor": "white"
           },
           "zaxis": {
            "backgroundcolor": "#E5ECF6",
            "gridcolor": "white",
            "gridwidth": 2,
            "linecolor": "white",
            "showbackground": true,
            "ticks": "",
            "zerolinecolor": "white"
           }
          },
          "shapedefaults": {
           "line": {
            "color": "#2a3f5f"
           }
          },
          "ternary": {
           "aaxis": {
            "gridcolor": "white",
            "linecolor": "white",
            "ticks": ""
           },
           "baxis": {
            "gridcolor": "white",
            "linecolor": "white",
            "ticks": ""
           },
           "bgcolor": "#E5ECF6",
           "caxis": {
            "gridcolor": "white",
            "linecolor": "white",
            "ticks": ""
           }
          },
          "title": {
           "x": 0.05
          },
          "xaxis": {
           "automargin": true,
           "gridcolor": "white",
           "linecolor": "white",
           "ticks": "",
           "title": {
            "standoff": 15
           },
           "zerolinecolor": "white",
           "zerolinewidth": 2
          },
          "yaxis": {
           "automargin": true,
           "gridcolor": "white",
           "linecolor": "white",
           "ticks": "",
           "title": {
            "standoff": 15
           },
           "zerolinecolor": "white",
           "zerolinewidth": 2
          }
         }
        },
        "title": {
         "text": "Recency"
        }
       }
      },
      "text/html": [
       "<div>                            <div id=\"a7887dda-9351-485a-880a-8b6a5c5897ce\" class=\"plotly-graph-div\" style=\"height:525px; width:100%;\"></div>            <script type=\"text/javascript\">                require([\"plotly\"], function(Plotly) {                    window.PLOTLYENV=window.PLOTLYENV || {};                                    if (document.getElementById(\"a7887dda-9351-485a-880a-8b6a5c5897ce\")) {                    Plotly.newPlot(                        \"a7887dda-9351-485a-880a-8b6a5c5897ce\",                        [{\"type\":\"histogram\",\"x\":[72,57,74,78,78,59,58,69,76,64,69,75,75,53,70,58,73,71,65,65,73,69,65,56,59,59,76,76,64,55,71,60,60,79,60,63,80,70,64,66,63,77,58,73,55,62,56,72,57,75,75,79,64,71,60,49,60,68,68,71,74,67,59,78,64,64,64,71,62,62,73,56,63,68,73,75,62,62,76,60,74,80,74,71,69,80,55,73,73,78,78,57,57,57,57,57,57,57,73,76,79,75,61,72,64,74,63,54,63,69,76,76,74,58,63,57,57,79,68,65,70,50,76,78,70,52,62,68,75,79,53,74,73,63,71,64,60,77,77,81,81,72,55,52,53,67,143,136,131,131,128,128,128,128,128,128,130,124,136,124,125,122,131,123,123,123,123,126,133,141,137,137,128,145,139,131,113,125,127,127,121,139,122,122,132,134,116,132,119,119,120,120,126,120,128,139,139,138,138,138,138,118,139,131,118,137,129,133,121,121,121,142,135,121,127,121,128,144,135,141,130,143,113,133,141,126,119,132,136,118,131,113,117,137,125,116,135,144,126,113,143,117,117,131,141,127,133,115,125,146,136,120,128,135,134,132,124,136,118,118,131,126,142,135,122,131,133,119,135,130,146,145,145,131,118,115,115,126,129,120,136,119,116,139,120,120,115,146,122,119,129,135,135,124,114,114,138,141,130,127,113,115,128,125,114,122,115,115,122,125,131,132,132,124,118,117,143,143,86,95,90,94,85,103,104,98,103,103,102,87,86,91,91,85,85,109,88,90,86,108,96,103,91,99,85,109,89,112,112,88,103,104,93,105,94,91,85,106,91,82,94,88,84,89,89,84,108,95,85,107,92,110,83,89,82,92,111,90,85,105,99,107,109,104,105,110,103,111,103,83,110,89,109,83,104,90,111,106,104,92,92,111,99,107,90,111,99,111,84,84,86,111,104,101,87,92,104,95,85,88,87,87,84,101,100,85,83,90,182,167,176,173,170,156,156,168,149,173,165,150,168,168,168,178,153,163,177,171,153,155,176,155,167,180,172,163,159,167,175,170,149,182,160,181,161,171,181,166,167,151,182,154,177,152,176,160,160,160,176,172,155,151,164,165,163,153,163,166,170,147,147,181,158,181,158,167,177,182,172,175,155,155,149,167,156,162,162,170,177,160,161,160,160,164,166,155,167,159,148,163,163,161,180,161,160,170,182,175,179,160,168,180,178,164,173,160,175,159,172,158,177,172,157,157,181,175,169,169,173,148,148,175,170,152,151,167,176,176,158,163,175,166,149,162,152,165,148,156,156,161,166,149,163,148,161,147,148,171,162,158,165,163,148,169,177,148,167,162,159,181,163,179,179,153,154,156,156,168,172,157,172,177,167,167,176,169,171,169,172,166,175,163,152,161,164,148,147,151,154,154,178,176,176,176,180,180,147,170,176,173,166,178,163,149,161,177,174,174,176,181,153,153,155,160,160,156,170,178,178,156,173,161,164,158,161]}],                        {\"template\":{\"data\":{\"bar\":[{\"error_x\":{\"color\":\"#2a3f5f\"},\"error_y\":{\"color\":\"#2a3f5f\"},\"marker\":{\"line\":{\"color\":\"#E5ECF6\",\"width\":0.5},\"pattern\":{\"fillmode\":\"overlay\",\"size\":10,\"solidity\":0.2}},\"type\":\"bar\"}],\"barpolar\":[{\"marker\":{\"line\":{\"color\":\"#E5ECF6\",\"width\":0.5},\"pattern\":{\"fillmode\":\"overlay\",\"size\":10,\"solidity\":0.2}},\"type\":\"barpolar\"}],\"carpet\":[{\"aaxis\":{\"endlinecolor\":\"#2a3f5f\",\"gridcolor\":\"white\",\"linecolor\":\"white\",\"minorgridcolor\":\"white\",\"startlinecolor\":\"#2a3f5f\"},\"baxis\":{\"endlinecolor\":\"#2a3f5f\",\"gridcolor\":\"white\",\"linecolor\":\"white\",\"minorgridcolor\":\"white\",\"startlinecolor\":\"#2a3f5f\"},\"type\":\"carpet\"}],\"choropleth\":[{\"colorbar\":{\"outlinewidth\":0,\"ticks\":\"\"},\"type\":\"choropleth\"}],\"contour\":[{\"colorbar\":{\"outlinewidth\":0,\"ticks\":\"\"},\"colorscale\":[[0.0,\"#0d0887\"],[0.1111111111111111,\"#46039f\"],[0.2222222222222222,\"#7201a8\"],[0.3333333333333333,\"#9c179e\"],[0.4444444444444444,\"#bd3786\"],[0.5555555555555556,\"#d8576b\"],[0.6666666666666666,\"#ed7953\"],[0.7777777777777778,\"#fb9f3a\"],[0.8888888888888888,\"#fdca26\"],[1.0,\"#f0f921\"]],\"type\":\"contour\"}],\"contourcarpet\":[{\"colorbar\":{\"outlinewidth\":0,\"ticks\":\"\"},\"type\":\"contourcarpet\"}],\"heatmap\":[{\"colorbar\":{\"outlinewidth\":0,\"ticks\":\"\"},\"colorscale\":[[0.0,\"#0d0887\"],[0.1111111111111111,\"#46039f\"],[0.2222222222222222,\"#7201a8\"],[0.3333333333333333,\"#9c179e\"],[0.4444444444444444,\"#bd3786\"],[0.5555555555555556,\"#d8576b\"],[0.6666666666666666,\"#ed7953\"],[0.7777777777777778,\"#fb9f3a\"],[0.8888888888888888,\"#fdca26\"],[1.0,\"#f0f921\"]],\"type\":\"heatmap\"}],\"heatmapgl\":[{\"colorbar\":{\"outlinewidth\":0,\"ticks\":\"\"},\"colorscale\":[[0.0,\"#0d0887\"],[0.1111111111111111,\"#46039f\"],[0.2222222222222222,\"#7201a8\"],[0.3333333333333333,\"#9c179e\"],[0.4444444444444444,\"#bd3786\"],[0.5555555555555556,\"#d8576b\"],[0.6666666666666666,\"#ed7953\"],[0.7777777777777778,\"#fb9f3a\"],[0.8888888888888888,\"#fdca26\"],[1.0,\"#f0f921\"]],\"type\":\"heatmapgl\"}],\"histogram\":[{\"marker\":{\"pattern\":{\"fillmode\":\"overlay\",\"size\":10,\"solidity\":0.2}},\"type\":\"histogram\"}],\"histogram2d\":[{\"colorbar\":{\"outlinewidth\":0,\"ticks\":\"\"},\"colorscale\":[[0.0,\"#0d0887\"],[0.1111111111111111,\"#46039f\"],[0.2222222222222222,\"#7201a8\"],[0.3333333333333333,\"#9c179e\"],[0.4444444444444444,\"#bd3786\"],[0.5555555555555556,\"#d8576b\"],[0.6666666666666666,\"#ed7953\"],[0.7777777777777778,\"#fb9f3a\"],[0.8888888888888888,\"#fdca26\"],[1.0,\"#f0f921\"]],\"type\":\"histogram2d\"}],\"histogram2dcontour\":[{\"colorbar\":{\"outlinewidth\":0,\"ticks\":\"\"},\"colorscale\":[[0.0,\"#0d0887\"],[0.1111111111111111,\"#46039f\"],[0.2222222222222222,\"#7201a8\"],[0.3333333333333333,\"#9c179e\"],[0.4444444444444444,\"#bd3786\"],[0.5555555555555556,\"#d8576b\"],[0.6666666666666666,\"#ed7953\"],[0.7777777777777778,\"#fb9f3a\"],[0.8888888888888888,\"#fdca26\"],[1.0,\"#f0f921\"]],\"type\":\"histogram2dcontour\"}],\"mesh3d\":[{\"colorbar\":{\"outlinewidth\":0,\"ticks\":\"\"},\"type\":\"mesh3d\"}],\"parcoords\":[{\"line\":{\"colorbar\":{\"outlinewidth\":0,\"ticks\":\"\"}},\"type\":\"parcoords\"}],\"pie\":[{\"automargin\":true,\"type\":\"pie\"}],\"scatter\":[{\"marker\":{\"colorbar\":{\"outlinewidth\":0,\"ticks\":\"\"}},\"type\":\"scatter\"}],\"scatter3d\":[{\"line\":{\"colorbar\":{\"outlinewidth\":0,\"ticks\":\"\"}},\"marker\":{\"colorbar\":{\"outlinewidth\":0,\"ticks\":\"\"}},\"type\":\"scatter3d\"}],\"scattercarpet\":[{\"marker\":{\"colorbar\":{\"outlinewidth\":0,\"ticks\":\"\"}},\"type\":\"scattercarpet\"}],\"scattergeo\":[{\"marker\":{\"colorbar\":{\"outlinewidth\":0,\"ticks\":\"\"}},\"type\":\"scattergeo\"}],\"scattergl\":[{\"marker\":{\"colorbar\":{\"outlinewidth\":0,\"ticks\":\"\"}},\"type\":\"scattergl\"}],\"scattermapbox\":[{\"marker\":{\"colorbar\":{\"outlinewidth\":0,\"ticks\":\"\"}},\"type\":\"scattermapbox\"}],\"scatterpolar\":[{\"marker\":{\"colorbar\":{\"outlinewidth\":0,\"ticks\":\"\"}},\"type\":\"scatterpolar\"}],\"scatterpolargl\":[{\"marker\":{\"colorbar\":{\"outlinewidth\":0,\"ticks\":\"\"}},\"type\":\"scatterpolargl\"}],\"scatterternary\":[{\"marker\":{\"colorbar\":{\"outlinewidth\":0,\"ticks\":\"\"}},\"type\":\"scatterternary\"}],\"surface\":[{\"colorbar\":{\"outlinewidth\":0,\"ticks\":\"\"},\"colorscale\":[[0.0,\"#0d0887\"],[0.1111111111111111,\"#46039f\"],[0.2222222222222222,\"#7201a8\"],[0.3333333333333333,\"#9c179e\"],[0.4444444444444444,\"#bd3786\"],[0.5555555555555556,\"#d8576b\"],[0.6666666666666666,\"#ed7953\"],[0.7777777777777778,\"#fb9f3a\"],[0.8888888888888888,\"#fdca26\"],[1.0,\"#f0f921\"]],\"type\":\"surface\"}],\"table\":[{\"cells\":{\"fill\":{\"color\":\"#EBF0F8\"},\"line\":{\"color\":\"white\"}},\"header\":{\"fill\":{\"color\":\"#C8D4E3\"},\"line\":{\"color\":\"white\"}},\"type\":\"table\"}]},\"layout\":{\"annotationdefaults\":{\"arrowcolor\":\"#2a3f5f\",\"arrowhead\":0,\"arrowwidth\":1},\"autotypenumbers\":\"strict\",\"coloraxis\":{\"colorbar\":{\"outlinewidth\":0,\"ticks\":\"\"}},\"colorscale\":{\"diverging\":[[0,\"#8e0152\"],[0.1,\"#c51b7d\"],[0.2,\"#de77ae\"],[0.3,\"#f1b6da\"],[0.4,\"#fde0ef\"],[0.5,\"#f7f7f7\"],[0.6,\"#e6f5d0\"],[0.7,\"#b8e186\"],[0.8,\"#7fbc41\"],[0.9,\"#4d9221\"],[1,\"#276419\"]],\"sequential\":[[0.0,\"#0d0887\"],[0.1111111111111111,\"#46039f\"],[0.2222222222222222,\"#7201a8\"],[0.3333333333333333,\"#9c179e\"],[0.4444444444444444,\"#bd3786\"],[0.5555555555555556,\"#d8576b\"],[0.6666666666666666,\"#ed7953\"],[0.7777777777777778,\"#fb9f3a\"],[0.8888888888888888,\"#fdca26\"],[1.0,\"#f0f921\"]],\"sequentialminus\":[[0.0,\"#0d0887\"],[0.1111111111111111,\"#46039f\"],[0.2222222222222222,\"#7201a8\"],[0.3333333333333333,\"#9c179e\"],[0.4444444444444444,\"#bd3786\"],[0.5555555555555556,\"#d8576b\"],[0.6666666666666666,\"#ed7953\"],[0.7777777777777778,\"#fb9f3a\"],[0.8888888888888888,\"#fdca26\"],[1.0,\"#f0f921\"]]},\"colorway\":[\"#636efa\",\"#EF553B\",\"#00cc96\",\"#ab63fa\",\"#FFA15A\",\"#19d3f3\",\"#FF6692\",\"#B6E880\",\"#FF97FF\",\"#FECB52\"],\"font\":{\"color\":\"#2a3f5f\"},\"geo\":{\"bgcolor\":\"white\",\"lakecolor\":\"white\",\"landcolor\":\"#E5ECF6\",\"showlakes\":true,\"showland\":true,\"subunitcolor\":\"white\"},\"hoverlabel\":{\"align\":\"left\"},\"hovermode\":\"closest\",\"mapbox\":{\"style\":\"light\"},\"paper_bgcolor\":\"white\",\"plot_bgcolor\":\"#E5ECF6\",\"polar\":{\"angularaxis\":{\"gridcolor\":\"white\",\"linecolor\":\"white\",\"ticks\":\"\"},\"bgcolor\":\"#E5ECF6\",\"radialaxis\":{\"gridcolor\":\"white\",\"linecolor\":\"white\",\"ticks\":\"\"}},\"scene\":{\"xaxis\":{\"backgroundcolor\":\"#E5ECF6\",\"gridcolor\":\"white\",\"gridwidth\":2,\"linecolor\":\"white\",\"showbackground\":true,\"ticks\":\"\",\"zerolinecolor\":\"white\"},\"yaxis\":{\"backgroundcolor\":\"#E5ECF6\",\"gridcolor\":\"white\",\"gridwidth\":2,\"linecolor\":\"white\",\"showbackground\":true,\"ticks\":\"\",\"zerolinecolor\":\"white\"},\"zaxis\":{\"backgroundcolor\":\"#E5ECF6\",\"gridcolor\":\"white\",\"gridwidth\":2,\"linecolor\":\"white\",\"showbackground\":true,\"ticks\":\"\",\"zerolinecolor\":\"white\"}},\"shapedefaults\":{\"line\":{\"color\":\"#2a3f5f\"}},\"ternary\":{\"aaxis\":{\"gridcolor\":\"white\",\"linecolor\":\"white\",\"ticks\":\"\"},\"baxis\":{\"gridcolor\":\"white\",\"linecolor\":\"white\",\"ticks\":\"\"},\"bgcolor\":\"#E5ECF6\",\"caxis\":{\"gridcolor\":\"white\",\"linecolor\":\"white\",\"ticks\":\"\"}},\"title\":{\"x\":0.05},\"xaxis\":{\"automargin\":true,\"gridcolor\":\"white\",\"linecolor\":\"white\",\"ticks\":\"\",\"title\":{\"standoff\":15},\"zerolinecolor\":\"white\",\"zerolinewidth\":2},\"yaxis\":{\"automargin\":true,\"gridcolor\":\"white\",\"linecolor\":\"white\",\"ticks\":\"\",\"title\":{\"standoff\":15},\"zerolinecolor\":\"white\",\"zerolinewidth\":2}}},\"title\":{\"text\":\"Recency\"}},                        {\"responsive\": true}                    ).then(function(){\n",
       "                            \n",
       "var gd = document.getElementById('a7887dda-9351-485a-880a-8b6a5c5897ce');\n",
       "var x = new MutationObserver(function (mutations, observer) {{\n",
       "        var display = window.getComputedStyle(gd).display;\n",
       "        if (!display || display === 'none') {{\n",
       "            console.log([gd, 'removed!']);\n",
       "            Plotly.purge(gd);\n",
       "            observer.disconnect();\n",
       "        }}\n",
       "}});\n",
       "\n",
       "// Listen for the removal of the full notebook cells\n",
       "var notebookContainer = gd.closest('#notebook-container');\n",
       "if (notebookContainer) {{\n",
       "    x.observe(notebookContainer, {childList: true});\n",
       "}}\n",
       "\n",
       "// Listen for the clearing of the current output cell\n",
       "var outputEl = gd.closest('.output');\n",
       "if (outputEl) {{\n",
       "    x.observe(outputEl, {childList: true});\n",
       "}}\n",
       "\n",
       "                        })                };                });            </script>        </div>"
      ]
     },
     "metadata": {},
     "output_type": "display_data"
    }
   ],
   "source": [
    "# import plotly for visualization\n",
    "import chart_studio.plotly as py\n",
    "from chart_studio import plotly\n",
    "# import plotly.plotly as py\n",
    "import plotly.offline as pyoff\n",
    "import plotly.graph_objects as go\n",
    "\n",
    "\n",
    "\n",
    "# Plot recency\n",
    "plot_data = [\n",
    "    go.Histogram(\n",
    "        x=tx_user['Recency']\n",
    "    )\n",
    "]\n",
    "\n",
    "plot_layout = go.Layout(\n",
    "        title='Recency'\n",
    "    )\n",
    "fig = go.Figure(data=plot_data, layout=plot_layout)\n",
    "pyoff.iplot(fig)\n",
    "\n"
   ]
  },
  {
   "cell_type": "code",
   "execution_count": 182,
   "metadata": {},
   "outputs": [
    {
     "data": {
      "text/html": [
       "<div>\n",
       "<style scoped>\n",
       "    .dataframe tbody tr th:only-of-type {\n",
       "        vertical-align: middle;\n",
       "    }\n",
       "\n",
       "    .dataframe tbody tr th {\n",
       "        vertical-align: top;\n",
       "    }\n",
       "\n",
       "    .dataframe thead th {\n",
       "        text-align: right;\n",
       "    }\n",
       "</style>\n",
       "<table border=\"1\" class=\"dataframe\">\n",
       "  <thead>\n",
       "    <tr style=\"text-align: right;\">\n",
       "      <th></th>\n",
       "      <th>count</th>\n",
       "      <th>mean</th>\n",
       "      <th>std</th>\n",
       "      <th>min</th>\n",
       "      <th>25%</th>\n",
       "      <th>50%</th>\n",
       "      <th>75%</th>\n",
       "      <th>max</th>\n",
       "    </tr>\n",
       "    <tr>\n",
       "      <th>RecencyCluster</th>\n",
       "      <th></th>\n",
       "      <th></th>\n",
       "      <th></th>\n",
       "      <th></th>\n",
       "      <th></th>\n",
       "      <th></th>\n",
       "      <th></th>\n",
       "      <th></th>\n",
       "    </tr>\n",
       "  </thead>\n",
       "  <tbody>\n",
       "    <tr>\n",
       "      <th>0</th>\n",
       "      <td>227.0</td>\n",
       "      <td>164.955947</td>\n",
       "      <td>9.920382</td>\n",
       "      <td>147.0</td>\n",
       "      <td>157.00</td>\n",
       "      <td>165.0</td>\n",
       "      <td>173.0</td>\n",
       "      <td>182.0</td>\n",
       "    </tr>\n",
       "    <tr>\n",
       "      <th>1</th>\n",
       "      <td>172.0</td>\n",
       "      <td>128.226744</td>\n",
       "      <td>8.949552</td>\n",
       "      <td>113.0</td>\n",
       "      <td>121.00</td>\n",
       "      <td>128.0</td>\n",
       "      <td>135.0</td>\n",
       "      <td>146.0</td>\n",
       "    </tr>\n",
       "    <tr>\n",
       "      <th>2</th>\n",
       "      <td>110.0</td>\n",
       "      <td>95.990909</td>\n",
       "      <td>9.542272</td>\n",
       "      <td>82.0</td>\n",
       "      <td>87.25</td>\n",
       "      <td>94.0</td>\n",
       "      <td>104.0</td>\n",
       "      <td>112.0</td>\n",
       "    </tr>\n",
       "    <tr>\n",
       "      <th>3</th>\n",
       "      <td>146.0</td>\n",
       "      <td>67.006849</td>\n",
       "      <td>8.245790</td>\n",
       "      <td>49.0</td>\n",
       "      <td>60.00</td>\n",
       "      <td>68.0</td>\n",
       "      <td>74.0</td>\n",
       "      <td>81.0</td>\n",
       "    </tr>\n",
       "  </tbody>\n",
       "</table>\n",
       "</div>"
      ],
      "text/plain": [
       "                count        mean       std    min     25%    50%    75%  \\\n",
       "RecencyCluster                                                             \n",
       "0               227.0  164.955947  9.920382  147.0  157.00  165.0  173.0   \n",
       "1               172.0  128.226744  8.949552  113.0  121.00  128.0  135.0   \n",
       "2               110.0   95.990909  9.542272   82.0   87.25   94.0  104.0   \n",
       "3               146.0   67.006849  8.245790   49.0   60.00   68.0   74.0   \n",
       "\n",
       "                  max  \n",
       "RecencyCluster         \n",
       "0               182.0  \n",
       "1               146.0  \n",
       "2               112.0  \n",
       "3                81.0  "
      ]
     },
     "execution_count": 182,
     "metadata": {},
     "output_type": "execute_result"
    }
   ],
   "source": [
    "from sklearn.cluster import KMeans\n",
    "\n",
    "#clustering for Recency\n",
    "kmeans = KMeans(n_clusters=4)\n",
    "kmeans.fit(tx_user[['Recency']])\n",
    "tx_user['RecencyCluster'] = kmeans.predict(tx_user[['Recency']])\n",
    "\n",
    "#order cluster method\n",
    "def order_cluster(cluster_field_name, target_field_name,df,ascending):\n",
    "    new_cluster_field_name = 'new_' + cluster_field_name\n",
    "    df_new = df.groupby(cluster_field_name)[target_field_name].mean().reset_index()\n",
    "    df_new = df_new.sort_values(by=target_field_name,ascending=ascending).reset_index(drop=True)\n",
    "    df_new['index'] = df_new.index\n",
    "    df_final = pd.merge(df,df_new[[cluster_field_name,'index']], on=cluster_field_name)\n",
    "    df_final = df_final.drop([cluster_field_name],axis=1)\n",
    "    df_final = df_final.rename(columns={\"index\":cluster_field_name})\n",
    "    return df_final\n",
    "\n",
    "\n",
    "#order recency clusters\n",
    "tx_user = order_cluster('RecencyCluster', 'Recency',tx_user,False)\n",
    "\n",
    "#print cluster characteristics\n",
    "tx_user.groupby('RecencyCluster')['Recency'].describe()"
   ]
  },
  {
   "cell_type": "code",
   "execution_count": 183,
   "metadata": {},
   "outputs": [],
   "source": [
    "# get total purchases for frequency scores\n",
    "tx_frequency = last_sm.groupby('unique_user_id').transaction_timestamp.count().reset_index()\n",
    "tx_frequency.columns = ['unique_user_id','Frequency']\n",
    "\n",
    "# add frequency column to tx_user\n",
    "tx_user = pd.merge(tx_user, tx_frequency, on='unique_user_id')"
   ]
  },
  {
   "cell_type": "code",
   "execution_count": 184,
   "metadata": {},
   "outputs": [
    {
     "data": {
      "text/html": [
       "<div>\n",
       "<style scoped>\n",
       "    .dataframe tbody tr th:only-of-type {\n",
       "        vertical-align: middle;\n",
       "    }\n",
       "\n",
       "    .dataframe tbody tr th {\n",
       "        vertical-align: top;\n",
       "    }\n",
       "\n",
       "    .dataframe thead th {\n",
       "        text-align: right;\n",
       "    }\n",
       "</style>\n",
       "<table border=\"1\" class=\"dataframe\">\n",
       "  <thead>\n",
       "    <tr style=\"text-align: right;\">\n",
       "      <th></th>\n",
       "      <th>unique_user_id</th>\n",
       "      <th>nextPurchaseDate</th>\n",
       "      <th>user_loc_state</th>\n",
       "      <th>Recency</th>\n",
       "      <th>RecencyCluster</th>\n",
       "      <th>Frequency</th>\n",
       "    </tr>\n",
       "  </thead>\n",
       "  <tbody>\n",
       "    <tr>\n",
       "      <th>0</th>\n",
       "      <td>3g25667135i5eeh12i258687108f53ih</td>\n",
       "      <td>208.0</td>\n",
       "      <td>1.0</td>\n",
       "      <td>72</td>\n",
       "      <td>3</td>\n",
       "      <td>1</td>\n",
       "    </tr>\n",
       "    <tr>\n",
       "      <th>1</th>\n",
       "      <td>gf59e1d2e1h7dee7697i433f290i7e04</td>\n",
       "      <td>265.0</td>\n",
       "      <td>4.0</td>\n",
       "      <td>57</td>\n",
       "      <td>3</td>\n",
       "      <td>1</td>\n",
       "    </tr>\n",
       "    <tr>\n",
       "      <th>2</th>\n",
       "      <td>f8f20221153147h7377dgf009fei2390</td>\n",
       "      <td>251.0</td>\n",
       "      <td>5.0</td>\n",
       "      <td>74</td>\n",
       "      <td>3</td>\n",
       "      <td>1</td>\n",
       "    </tr>\n",
       "    <tr>\n",
       "      <th>3</th>\n",
       "      <td>ih4h63gh135e93817828f49f9h294195</td>\n",
       "      <td>321.0</td>\n",
       "      <td>10.0</td>\n",
       "      <td>78</td>\n",
       "      <td>3</td>\n",
       "      <td>2</td>\n",
       "    </tr>\n",
       "    <tr>\n",
       "      <th>4</th>\n",
       "      <td>ih4h63gh135e93817828f49f9h294195</td>\n",
       "      <td>321.0</td>\n",
       "      <td>10.0</td>\n",
       "      <td>78</td>\n",
       "      <td>3</td>\n",
       "      <td>2</td>\n",
       "    </tr>\n",
       "  </tbody>\n",
       "</table>\n",
       "</div>"
      ],
      "text/plain": [
       "                     unique_user_id  nextPurchaseDate  user_loc_state  \\\n",
       "0  3g25667135i5eeh12i258687108f53ih             208.0             1.0   \n",
       "1  gf59e1d2e1h7dee7697i433f290i7e04             265.0             4.0   \n",
       "2  f8f20221153147h7377dgf009fei2390             251.0             5.0   \n",
       "3  ih4h63gh135e93817828f49f9h294195             321.0            10.0   \n",
       "4  ih4h63gh135e93817828f49f9h294195             321.0            10.0   \n",
       "\n",
       "   Recency  RecencyCluster  Frequency  \n",
       "0       72               3          1  \n",
       "1       57               3          1  \n",
       "2       74               3          1  \n",
       "3       78               3          2  \n",
       "4       78               3          2  "
      ]
     },
     "execution_count": 184,
     "metadata": {},
     "output_type": "execute_result"
    }
   ],
   "source": [
    "tx_user.head(5)"
   ]
  },
  {
   "cell_type": "code",
   "execution_count": 121,
   "metadata": {},
   "outputs": [
    {
     "ename": "NameError",
     "evalue": "name 'go' is not defined",
     "output_type": "error",
     "traceback": [
      "\u001b[0;31m---------------------------------------------------------------------------\u001b[0m",
      "\u001b[0;31mNameError\u001b[0m                                 Traceback (most recent call last)",
      "\u001b[0;32m/var/folders/_s/ts97qz5j0yjf8zz71yltnt2h0000gn/T/ipykernel_1327/2494059999.py\u001b[0m in \u001b[0;36m<module>\u001b[0;34m\u001b[0m\n\u001b[1;32m      1\u001b[0m \u001b[0;31m#plot frequency\u001b[0m\u001b[0;34m\u001b[0m\u001b[0;34m\u001b[0m\u001b[0;34m\u001b[0m\u001b[0m\n\u001b[1;32m      2\u001b[0m plot_data = [\n\u001b[0;32m----> 3\u001b[0;31m     go.Histogram(\n\u001b[0m\u001b[1;32m      4\u001b[0m         \u001b[0mx\u001b[0m\u001b[0;34m=\u001b[0m\u001b[0mtx_user\u001b[0m\u001b[0;34m.\u001b[0m\u001b[0mquery\u001b[0m\u001b[0;34m(\u001b[0m\u001b[0;34m'Frequency < 1000'\u001b[0m\u001b[0;34m)\u001b[0m\u001b[0;34m[\u001b[0m\u001b[0;34m'Frequency'\u001b[0m\u001b[0;34m]\u001b[0m\u001b[0;34m\u001b[0m\u001b[0;34m\u001b[0m\u001b[0m\n\u001b[1;32m      5\u001b[0m     )\n",
      "\u001b[0;31mNameError\u001b[0m: name 'go' is not defined"
     ]
    }
   ],
   "source": [
    "#plot frequency\n",
    "plot_data = [\n",
    "    go.Histogram(\n",
    "        x=tx_user.query('Frequency < 1000')['Frequency']\n",
    "    )\n",
    "]\n",
    "\n",
    "plot_layout = go.Layout(\n",
    "        title='Frequency'\n",
    "    )\n",
    "fig = go.Figure(data=plot_data, layout=plot_layout)\n",
    "pyoff.iplot(fig)"
   ]
  },
  {
   "cell_type": "code",
   "execution_count": 122,
   "metadata": {},
   "outputs": [
    {
     "data": {
      "text/html": [
       "<div>\n",
       "<style scoped>\n",
       "    .dataframe tbody tr th:only-of-type {\n",
       "        vertical-align: middle;\n",
       "    }\n",
       "\n",
       "    .dataframe tbody tr th {\n",
       "        vertical-align: top;\n",
       "    }\n",
       "\n",
       "    .dataframe thead th {\n",
       "        text-align: right;\n",
       "    }\n",
       "</style>\n",
       "<table border=\"1\" class=\"dataframe\">\n",
       "  <thead>\n",
       "    <tr style=\"text-align: right;\">\n",
       "      <th></th>\n",
       "      <th>count</th>\n",
       "      <th>mean</th>\n",
       "      <th>std</th>\n",
       "      <th>min</th>\n",
       "      <th>25%</th>\n",
       "      <th>50%</th>\n",
       "      <th>75%</th>\n",
       "      <th>max</th>\n",
       "    </tr>\n",
       "    <tr>\n",
       "      <th>FrequencyCluster</th>\n",
       "      <th></th>\n",
       "      <th></th>\n",
       "      <th></th>\n",
       "      <th></th>\n",
       "      <th></th>\n",
       "      <th></th>\n",
       "      <th></th>\n",
       "      <th></th>\n",
       "    </tr>\n",
       "  </thead>\n",
       "  <tbody>\n",
       "    <tr>\n",
       "      <th>0</th>\n",
       "      <td>538.0</td>\n",
       "      <td>1.000000</td>\n",
       "      <td>0.000000</td>\n",
       "      <td>1.0</td>\n",
       "      <td>1.0</td>\n",
       "      <td>1.0</td>\n",
       "      <td>1.0</td>\n",
       "      <td>1.0</td>\n",
       "    </tr>\n",
       "    <tr>\n",
       "      <th>1</th>\n",
       "      <td>86.0</td>\n",
       "      <td>2.000000</td>\n",
       "      <td>0.000000</td>\n",
       "      <td>2.0</td>\n",
       "      <td>2.0</td>\n",
       "      <td>2.0</td>\n",
       "      <td>2.0</td>\n",
       "      <td>2.0</td>\n",
       "    </tr>\n",
       "    <tr>\n",
       "      <th>2</th>\n",
       "      <td>19.0</td>\n",
       "      <td>3.210526</td>\n",
       "      <td>0.418854</td>\n",
       "      <td>3.0</td>\n",
       "      <td>3.0</td>\n",
       "      <td>3.0</td>\n",
       "      <td>3.0</td>\n",
       "      <td>4.0</td>\n",
       "    </tr>\n",
       "    <tr>\n",
       "      <th>3</th>\n",
       "      <td>12.0</td>\n",
       "      <td>6.166667</td>\n",
       "      <td>1.029857</td>\n",
       "      <td>5.0</td>\n",
       "      <td>5.0</td>\n",
       "      <td>7.0</td>\n",
       "      <td>7.0</td>\n",
       "      <td>7.0</td>\n",
       "    </tr>\n",
       "  </tbody>\n",
       "</table>\n",
       "</div>"
      ],
      "text/plain": [
       "                  count      mean       std  min  25%  50%  75%  max\n",
       "FrequencyCluster                                                    \n",
       "0                 538.0  1.000000  0.000000  1.0  1.0  1.0  1.0  1.0\n",
       "1                  86.0  2.000000  0.000000  2.0  2.0  2.0  2.0  2.0\n",
       "2                  19.0  3.210526  0.418854  3.0  3.0  3.0  3.0  4.0\n",
       "3                  12.0  6.166667  1.029857  5.0  5.0  7.0  7.0  7.0"
      ]
     },
     "execution_count": 122,
     "metadata": {},
     "output_type": "execute_result"
    }
   ],
   "source": [
    "# Clustering for frequency\n",
    "kmeans = KMeans(n_clusters=4)\n",
    "kmeans.fit(tx_user[['Frequency']])\n",
    "tx_user['FrequencyCluster'] = kmeans.predict(tx_user[['Frequency']])\n",
    "\n",
    "#order frequency clusters and show the characteristics\n",
    "tx_user = order_cluster('FrequencyCluster', 'Frequency',tx_user,True)\n",
    "tx_user.groupby('FrequencyCluster')['Frequency'].describe()"
   ]
  },
  {
   "cell_type": "code",
   "execution_count": 123,
   "metadata": {},
   "outputs": [
    {
     "data": {
      "text/html": [
       "<div>\n",
       "<style scoped>\n",
       "    .dataframe tbody tr th:only-of-type {\n",
       "        vertical-align: middle;\n",
       "    }\n",
       "\n",
       "    .dataframe tbody tr th {\n",
       "        vertical-align: top;\n",
       "    }\n",
       "\n",
       "    .dataframe thead th {\n",
       "        text-align: right;\n",
       "    }\n",
       "</style>\n",
       "<table border=\"1\" class=\"dataframe\">\n",
       "  <thead>\n",
       "    <tr style=\"text-align: right;\">\n",
       "      <th></th>\n",
       "      <th>user_id</th>\n",
       "      <th>unique_user_id</th>\n",
       "      <th>user_loc_state</th>\n",
       "      <th>transaction_id</th>\n",
       "      <th>status</th>\n",
       "      <th>transaction_timestamp</th>\n",
       "      <th>delivery_timestamp</th>\n",
       "      <th>estimated_delivery_timestamp</th>\n",
       "      <th>payment_mode</th>\n",
       "      <th>num_installments</th>\n",
       "      <th>transaction_value</th>\n",
       "    </tr>\n",
       "  </thead>\n",
       "  <tbody>\n",
       "    <tr>\n",
       "      <th>24</th>\n",
       "      <td>493e266f0d05804ggeg00g9i9e1998i9</td>\n",
       "      <td>gh76290g51342i33ef6156d9e0953i11</td>\n",
       "      <td>0</td>\n",
       "      <td>gge5e3226834306eeh45555eefe3f2g6</td>\n",
       "      <td>delivered</td>\n",
       "      <td>2018-08-10 23:54:00</td>\n",
       "      <td>8/29/2018 14:46</td>\n",
       "      <td>9/20/2018 0:00</td>\n",
       "      <td>credit_card</td>\n",
       "      <td>4</td>\n",
       "      <td>220.39</td>\n",
       "    </tr>\n",
       "    <tr>\n",
       "      <th>25</th>\n",
       "      <td>9ii94701d83gf6690ef40853809d239e</td>\n",
       "      <td>f7ef3ei5e86i4i0gd6fh06082d3i574e</td>\n",
       "      <td>0</td>\n",
       "      <td>e9g9i6h00080i8fei652455dh23f9fi5</td>\n",
       "      <td>delivered</td>\n",
       "      <td>2018-07-29 21:05:00</td>\n",
       "      <td>8/15/2018 17:07</td>\n",
       "      <td>9/20/2018 0:00</td>\n",
       "      <td>credit_card</td>\n",
       "      <td>8</td>\n",
       "      <td>591.88</td>\n",
       "    </tr>\n",
       "    <tr>\n",
       "      <th>31</th>\n",
       "      <td>7396i715id81d24086d105508gd4ei7e</td>\n",
       "      <td>e49843061216528e292247f11i0iii0g</td>\n",
       "      <td>0</td>\n",
       "      <td>h428i52291e9d7id4fh97e7ied7df4id</td>\n",
       "      <td>delivered</td>\n",
       "      <td>2018-06-25 20:52:00</td>\n",
       "      <td>7/5/2018 18:32</td>\n",
       "      <td>8/3/2018 0:00</td>\n",
       "      <td>e-payment</td>\n",
       "      <td>1</td>\n",
       "      <td>158.27</td>\n",
       "    </tr>\n",
       "    <tr>\n",
       "      <th>34</th>\n",
       "      <td>5662g4511i79igd47g1173838e37f15e</td>\n",
       "      <td>1956g921e593i5g570g4f99491i5d8g6</td>\n",
       "      <td>0</td>\n",
       "      <td>df5e8hfgddd79g6f48h737h0d2i50116</td>\n",
       "      <td>delivered</td>\n",
       "      <td>2018-05-03 22:54:00</td>\n",
       "      <td>5/24/2018 3:27</td>\n",
       "      <td>6/12/2018 0:00</td>\n",
       "      <td>credit_card</td>\n",
       "      <td>5</td>\n",
       "      <td>595.49</td>\n",
       "    </tr>\n",
       "    <tr>\n",
       "      <th>38</th>\n",
       "      <td>70h79i2g1d457e536i8d60h2884d9g21</td>\n",
       "      <td>391i2hg3g9fgh3e739673717d7gg9i55</td>\n",
       "      <td>0</td>\n",
       "      <td>g1d86g7hgd72e9d8372057e45iie461f</td>\n",
       "      <td>delivered</td>\n",
       "      <td>2018-04-20 14:44:00</td>\n",
       "      <td>5/18/2018 8:18</td>\n",
       "      <td>6/11/2018 0:00</td>\n",
       "      <td>credit_card</td>\n",
       "      <td>5</td>\n",
       "      <td>281.60</td>\n",
       "    </tr>\n",
       "  </tbody>\n",
       "</table>\n",
       "</div>"
      ],
      "text/plain": [
       "                             user_id                    unique_user_id  \\\n",
       "24  493e266f0d05804ggeg00g9i9e1998i9  gh76290g51342i33ef6156d9e0953i11   \n",
       "25  9ii94701d83gf6690ef40853809d239e  f7ef3ei5e86i4i0gd6fh06082d3i574e   \n",
       "31  7396i715id81d24086d105508gd4ei7e  e49843061216528e292247f11i0iii0g   \n",
       "34  5662g4511i79igd47g1173838e37f15e  1956g921e593i5g570g4f99491i5d8g6   \n",
       "38  70h79i2g1d457e536i8d60h2884d9g21  391i2hg3g9fgh3e739673717d7gg9i55   \n",
       "\n",
       "    user_loc_state                    transaction_id     status  \\\n",
       "24               0  gge5e3226834306eeh45555eefe3f2g6  delivered   \n",
       "25               0  e9g9i6h00080i8fei652455dh23f9fi5  delivered   \n",
       "31               0  h428i52291e9d7id4fh97e7ied7df4id  delivered   \n",
       "34               0  df5e8hfgddd79g6f48h737h0d2i50116  delivered   \n",
       "38               0  g1d86g7hgd72e9d8372057e45iie461f  delivered   \n",
       "\n",
       "   transaction_timestamp delivery_timestamp estimated_delivery_timestamp  \\\n",
       "24   2018-08-10 23:54:00    8/29/2018 14:46               9/20/2018 0:00   \n",
       "25   2018-07-29 21:05:00    8/15/2018 17:07               9/20/2018 0:00   \n",
       "31   2018-06-25 20:52:00     7/5/2018 18:32                8/3/2018 0:00   \n",
       "34   2018-05-03 22:54:00     5/24/2018 3:27               6/12/2018 0:00   \n",
       "38   2018-04-20 14:44:00     5/18/2018 8:18               6/11/2018 0:00   \n",
       "\n",
       "   payment_mode  num_installments  transaction_value  \n",
       "24  credit_card                 4             220.39  \n",
       "25  credit_card                 8             591.88  \n",
       "31    e-payment                 1             158.27  \n",
       "34  credit_card                 5             595.49  \n",
       "38  credit_card                 5             281.60  "
      ]
     },
     "execution_count": 123,
     "metadata": {},
     "output_type": "execute_result"
    }
   ],
   "source": [
    "last_sm.head(5)"
   ]
  },
  {
   "cell_type": "code",
   "execution_count": 124,
   "metadata": {},
   "outputs": [
    {
     "data": {
      "text/plain": [
       "(655, 7)"
      ]
     },
     "execution_count": 124,
     "metadata": {},
     "output_type": "execute_result"
    }
   ],
   "source": [
    "tx_user.shape"
   ]
  },
  {
   "cell_type": "code",
   "execution_count": 125,
   "metadata": {},
   "outputs": [],
   "source": [
    "#calculate monetary value, create a dataframe with it\n",
    "last_sm['Revenue'] = last_sm['transaction_value']\n",
    "tx_revenue = last_sm.groupby('unique_user_id').Revenue.sum().reset_index()\n",
    "\n",
    "#add Revenue column to tx_user\n",
    "tx_user = pd.merge(tx_user, tx_revenue, on='unique_user_id')"
   ]
  },
  {
   "cell_type": "code",
   "execution_count": 126,
   "metadata": {},
   "outputs": [
    {
     "ename": "NameError",
     "evalue": "name 'go' is not defined",
     "output_type": "error",
     "traceback": [
      "\u001b[0;31m---------------------------------------------------------------------------\u001b[0m",
      "\u001b[0;31mNameError\u001b[0m                                 Traceback (most recent call last)",
      "\u001b[0;32m/var/folders/_s/ts97qz5j0yjf8zz71yltnt2h0000gn/T/ipykernel_1327/321978976.py\u001b[0m in \u001b[0;36m<module>\u001b[0;34m\u001b[0m\n\u001b[1;32m      1\u001b[0m \u001b[0;31m#plot Revenue\u001b[0m\u001b[0;34m\u001b[0m\u001b[0;34m\u001b[0m\u001b[0;34m\u001b[0m\u001b[0m\n\u001b[1;32m      2\u001b[0m plot_data = [\n\u001b[0;32m----> 3\u001b[0;31m     go.Histogram(\n\u001b[0m\u001b[1;32m      4\u001b[0m         \u001b[0mx\u001b[0m\u001b[0;34m=\u001b[0m\u001b[0mtx_user\u001b[0m\u001b[0;34m.\u001b[0m\u001b[0mquery\u001b[0m\u001b[0;34m(\u001b[0m\u001b[0;34m'Revenue < 10000'\u001b[0m\u001b[0;34m)\u001b[0m\u001b[0;34m[\u001b[0m\u001b[0;34m'Revenue'\u001b[0m\u001b[0;34m]\u001b[0m\u001b[0;34m\u001b[0m\u001b[0;34m\u001b[0m\u001b[0m\n\u001b[1;32m      5\u001b[0m     )\n",
      "\u001b[0;31mNameError\u001b[0m: name 'go' is not defined"
     ]
    }
   ],
   "source": [
    "#plot Revenue\n",
    "plot_data = [\n",
    "    go.Histogram(\n",
    "        x=tx_user.query('Revenue < 10000')['Revenue']\n",
    "    )\n",
    "]\n",
    "\n",
    "plot_layout = go.Layout(\n",
    "        title='Monetary Value'\n",
    "    )\n",
    "fig = go.Figure(data=plot_data, layout=plot_layout)\n",
    "pyoff.iplot(fig)"
   ]
  },
  {
   "cell_type": "code",
   "execution_count": 127,
   "metadata": {},
   "outputs": [
    {
     "data": {
      "text/html": [
       "<div>\n",
       "<style scoped>\n",
       "    .dataframe tbody tr th:only-of-type {\n",
       "        vertical-align: middle;\n",
       "    }\n",
       "\n",
       "    .dataframe tbody tr th {\n",
       "        vertical-align: top;\n",
       "    }\n",
       "\n",
       "    .dataframe thead th {\n",
       "        text-align: right;\n",
       "    }\n",
       "</style>\n",
       "<table border=\"1\" class=\"dataframe\">\n",
       "  <thead>\n",
       "    <tr style=\"text-align: right;\">\n",
       "      <th></th>\n",
       "      <th>count</th>\n",
       "      <th>mean</th>\n",
       "      <th>std</th>\n",
       "      <th>min</th>\n",
       "      <th>25%</th>\n",
       "      <th>50%</th>\n",
       "      <th>75%</th>\n",
       "      <th>max</th>\n",
       "    </tr>\n",
       "    <tr>\n",
       "      <th>RevenueCluster</th>\n",
       "      <th></th>\n",
       "      <th></th>\n",
       "      <th></th>\n",
       "      <th></th>\n",
       "      <th></th>\n",
       "      <th></th>\n",
       "      <th></th>\n",
       "      <th></th>\n",
       "    </tr>\n",
       "  </thead>\n",
       "  <tbody>\n",
       "    <tr>\n",
       "      <th>0</th>\n",
       "      <td>476.0</td>\n",
       "      <td>94.923361</td>\n",
       "      <td>43.299269</td>\n",
       "      <td>17.29</td>\n",
       "      <td>59.4225</td>\n",
       "      <td>92.450</td>\n",
       "      <td>132.610</td>\n",
       "      <td>184.10</td>\n",
       "    </tr>\n",
       "    <tr>\n",
       "      <th>1</th>\n",
       "      <td>144.0</td>\n",
       "      <td>275.306736</td>\n",
       "      <td>76.437500</td>\n",
       "      <td>186.10</td>\n",
       "      <td>205.1375</td>\n",
       "      <td>246.295</td>\n",
       "      <td>336.645</td>\n",
       "      <td>432.18</td>\n",
       "    </tr>\n",
       "    <tr>\n",
       "      <th>2</th>\n",
       "      <td>27.0</td>\n",
       "      <td>644.903704</td>\n",
       "      <td>123.134404</td>\n",
       "      <td>479.44</td>\n",
       "      <td>530.5600</td>\n",
       "      <td>630.120</td>\n",
       "      <td>708.625</td>\n",
       "      <td>961.49</td>\n",
       "    </tr>\n",
       "    <tr>\n",
       "      <th>3</th>\n",
       "      <td>8.0</td>\n",
       "      <td>1450.180000</td>\n",
       "      <td>132.673473</td>\n",
       "      <td>1237.28</td>\n",
       "      <td>1384.3200</td>\n",
       "      <td>1402.320</td>\n",
       "      <td>1596.960</td>\n",
       "      <td>1596.96</td>\n",
       "    </tr>\n",
       "  </tbody>\n",
       "</table>\n",
       "</div>"
      ],
      "text/plain": [
       "                count         mean         std      min        25%       50%  \\\n",
       "RevenueCluster                                                                 \n",
       "0               476.0    94.923361   43.299269    17.29    59.4225    92.450   \n",
       "1               144.0   275.306736   76.437500   186.10   205.1375   246.295   \n",
       "2                27.0   644.903704  123.134404   479.44   530.5600   630.120   \n",
       "3                 8.0  1450.180000  132.673473  1237.28  1384.3200  1402.320   \n",
       "\n",
       "                     75%      max  \n",
       "RevenueCluster                     \n",
       "0                132.610   184.10  \n",
       "1                336.645   432.18  \n",
       "2                708.625   961.49  \n",
       "3               1596.960  1596.96  "
      ]
     },
     "execution_count": 127,
     "metadata": {},
     "output_type": "execute_result"
    }
   ],
   "source": [
    "#Revenue clusters \n",
    "kmeans = KMeans(n_clusters=4)\n",
    "kmeans.fit(tx_user[['Revenue']])\n",
    "tx_user['RevenueCluster'] = kmeans.predict(tx_user[['Revenue']])\n",
    "\n",
    "#ordering clusters and who the characteristics\n",
    "tx_user = order_cluster('RevenueCluster', 'Revenue',tx_user,True)\n",
    "tx_user.groupby('RevenueCluster')['Revenue'].describe()"
   ]
  },
  {
   "cell_type": "code",
   "execution_count": 128,
   "metadata": {},
   "outputs": [],
   "source": [
    "#building overall segmentation\n",
    "tx_user['OverallScore'] = tx_user['RecencyCluster'] + tx_user['FrequencyCluster'] + tx_user['RevenueCluster']\n",
    "\n",
    "#assign segment names\n",
    "tx_user['Segment'] = 'Low-Value'\n",
    "tx_user.loc[tx_user['OverallScore']>2,'Segment'] = 'Mid-Value' \n",
    "tx_user.loc[tx_user['OverallScore']>4,'Segment'] = 'High-Value' \n"
   ]
  },
  {
   "cell_type": "code",
   "execution_count": 129,
   "metadata": {},
   "outputs": [
    {
     "data": {
      "text/plain": [
       "(655, 11)"
      ]
     },
     "execution_count": 129,
     "metadata": {},
     "output_type": "execute_result"
    }
   ],
   "source": [
    "tx_user.shape"
   ]
  },
  {
   "cell_type": "code",
   "execution_count": 130,
   "metadata": {},
   "outputs": [
    {
     "ename": "NameError",
     "evalue": "name 'go' is not defined",
     "output_type": "error",
     "traceback": [
      "\u001b[0;31m---------------------------------------------------------------------------\u001b[0m",
      "\u001b[0;31mNameError\u001b[0m                                 Traceback (most recent call last)",
      "\u001b[0;32m/var/folders/_s/ts97qz5j0yjf8zz71yltnt2h0000gn/T/ipykernel_1327/4009688087.py\u001b[0m in \u001b[0;36m<module>\u001b[0;34m\u001b[0m\n\u001b[1;32m      3\u001b[0m \u001b[0;34m\u001b[0m\u001b[0m\n\u001b[1;32m      4\u001b[0m plot_data = [\n\u001b[0;32m----> 5\u001b[0;31m     go.Scatter(\n\u001b[0m\u001b[1;32m      6\u001b[0m         \u001b[0mx\u001b[0m\u001b[0;34m=\u001b[0m\u001b[0mtx_graph\u001b[0m\u001b[0;34m.\u001b[0m\u001b[0mquery\u001b[0m\u001b[0;34m(\u001b[0m\u001b[0;34m\"Segment == 'Low-Value'\"\u001b[0m\u001b[0;34m)\u001b[0m\u001b[0;34m[\u001b[0m\u001b[0;34m'Frequency'\u001b[0m\u001b[0;34m]\u001b[0m\u001b[0;34m,\u001b[0m\u001b[0;34m\u001b[0m\u001b[0;34m\u001b[0m\u001b[0m\n\u001b[1;32m      7\u001b[0m         \u001b[0my\u001b[0m\u001b[0;34m=\u001b[0m\u001b[0mtx_graph\u001b[0m\u001b[0;34m.\u001b[0m\u001b[0mquery\u001b[0m\u001b[0;34m(\u001b[0m\u001b[0;34m\"Segment == 'Low-Value'\"\u001b[0m\u001b[0;34m)\u001b[0m\u001b[0;34m[\u001b[0m\u001b[0;34m'Revenue'\u001b[0m\u001b[0;34m]\u001b[0m\u001b[0;34m,\u001b[0m\u001b[0;34m\u001b[0m\u001b[0;34m\u001b[0m\u001b[0m\n",
      "\u001b[0;31mNameError\u001b[0m: name 'go' is not defined"
     ]
    }
   ],
   "source": [
    "#plot revenue vs frequency\n",
    "tx_graph = tx_user.query(\"Revenue < 50000 and Frequency < 2000\")\n",
    "\n",
    "plot_data = [\n",
    "    go.Scatter(\n",
    "        x=tx_graph.query(\"Segment == 'Low-Value'\")['Frequency'],\n",
    "        y=tx_graph.query(\"Segment == 'Low-Value'\")['Revenue'],\n",
    "        mode='markers',\n",
    "        name='Low',\n",
    "        marker= dict(size= 7,\n",
    "            line= dict(width=1),\n",
    "            color= 'blue',\n",
    "            opacity= 0.8\n",
    "           )\n",
    "    ),\n",
    "        go.Scatter(\n",
    "        x=tx_graph.query(\"Segment == 'Mid-Value'\")['Frequency'],\n",
    "        y=tx_graph.query(\"Segment == 'Mid-Value'\")['Revenue'],\n",
    "        mode='markers',\n",
    "        name='Mid',\n",
    "        marker= dict(size= 9,\n",
    "            line= dict(width=1),\n",
    "            color= 'green',\n",
    "            opacity= 0.5\n",
    "           )\n",
    "    ),\n",
    "        go.Scatter(\n",
    "        x=tx_graph.query(\"Segment == 'High-Value'\")['Frequency'],\n",
    "        y=tx_graph.query(\"Segment == 'High-Value'\")['Revenue'],\n",
    "        mode='markers',\n",
    "        name='High',\n",
    "        marker= dict(size= 11,\n",
    "            line= dict(width=1),\n",
    "            color= 'red',\n",
    "            opacity= 0.9\n",
    "           )\n",
    "    ),\n",
    "]\n",
    "\n",
    "plot_layout = go.Layout(\n",
    "        yaxis= {'title': \"Revenue\"},\n",
    "        xaxis= {'title': \"Frequency\"},\n",
    "        title='Segments'\n",
    "    )\n",
    "fig = go.Figure(data=plot_data, layout=plot_layout)\n",
    "pyoff.iplot(fig)"
   ]
  },
  {
   "cell_type": "code",
   "execution_count": 131,
   "metadata": {},
   "outputs": [
    {
     "ename": "NameError",
     "evalue": "name 'go' is not defined",
     "output_type": "error",
     "traceback": [
      "\u001b[0;31m---------------------------------------------------------------------------\u001b[0m",
      "\u001b[0;31mNameError\u001b[0m                                 Traceback (most recent call last)",
      "\u001b[0;32m/var/folders/_s/ts97qz5j0yjf8zz71yltnt2h0000gn/T/ipykernel_1327/3495661468.py\u001b[0m in \u001b[0;36m<module>\u001b[0;34m\u001b[0m\n\u001b[1;32m      3\u001b[0m \u001b[0;34m\u001b[0m\u001b[0m\n\u001b[1;32m      4\u001b[0m plot_data = [\n\u001b[0;32m----> 5\u001b[0;31m     go.Scatter(\n\u001b[0m\u001b[1;32m      6\u001b[0m         \u001b[0mx\u001b[0m\u001b[0;34m=\u001b[0m\u001b[0mtx_graph\u001b[0m\u001b[0;34m.\u001b[0m\u001b[0mquery\u001b[0m\u001b[0;34m(\u001b[0m\u001b[0;34m\"Segment == 'Low-Value'\"\u001b[0m\u001b[0;34m)\u001b[0m\u001b[0;34m[\u001b[0m\u001b[0;34m'Recency'\u001b[0m\u001b[0;34m]\u001b[0m\u001b[0;34m,\u001b[0m\u001b[0;34m\u001b[0m\u001b[0;34m\u001b[0m\u001b[0m\n\u001b[1;32m      7\u001b[0m         \u001b[0my\u001b[0m\u001b[0;34m=\u001b[0m\u001b[0mtx_graph\u001b[0m\u001b[0;34m.\u001b[0m\u001b[0mquery\u001b[0m\u001b[0;34m(\u001b[0m\u001b[0;34m\"Segment == 'Low-Value'\"\u001b[0m\u001b[0;34m)\u001b[0m\u001b[0;34m[\u001b[0m\u001b[0;34m'Revenue'\u001b[0m\u001b[0;34m]\u001b[0m\u001b[0;34m,\u001b[0m\u001b[0;34m\u001b[0m\u001b[0;34m\u001b[0m\u001b[0m\n",
      "\u001b[0;31mNameError\u001b[0m: name 'go' is not defined"
     ]
    }
   ],
   "source": [
    "#plot revenue vs recency\n",
    "tx_graph = tx_user.query(\"Revenue < 50000 and Frequency < 2000\")\n",
    "\n",
    "plot_data = [\n",
    "    go.Scatter(\n",
    "        x=tx_graph.query(\"Segment == 'Low-Value'\")['Recency'],\n",
    "        y=tx_graph.query(\"Segment == 'Low-Value'\")['Revenue'],\n",
    "        mode='markers',\n",
    "        name='Low',\n",
    "        marker= dict(size= 7,\n",
    "            line= dict(width=1),\n",
    "            color= 'blue',\n",
    "            opacity= 0.8\n",
    "           )\n",
    "    ),\n",
    "        go.Scatter(\n",
    "        x=tx_graph.query(\"Segment == 'Mid-Value'\")['Recency'],\n",
    "        y=tx_graph.query(\"Segment == 'Mid-Value'\")['Revenue'],\n",
    "        mode='markers',\n",
    "        name='Mid',\n",
    "        marker= dict(size= 9,\n",
    "            line= dict(width=1),\n",
    "            color= 'green',\n",
    "            opacity= 0.5\n",
    "           )\n",
    "    ),\n",
    "        go.Scatter(\n",
    "        x=tx_graph.query(\"Segment == 'High-Value'\")['Recency'],\n",
    "        y=tx_graph.query(\"Segment == 'High-Value'\")['Revenue'],\n",
    "        mode='markers',\n",
    "        name='High',\n",
    "        marker= dict(size= 11,\n",
    "            line= dict(width=1),\n",
    "            color= 'red',\n",
    "            opacity= 0.9\n",
    "           )\n",
    "    ),\n",
    "]\n",
    "\n",
    "plot_layout = go.Layout(\n",
    "        yaxis= {'title': \"Revenue\"},\n",
    "        xaxis= {'title': \"Recency\"},\n",
    "        title='Segments'\n",
    "    )\n",
    "fig = go.Figure(data=plot_data, layout=plot_layout)\n",
    "pyoff.iplot(fig)\n",
    "\n",
    "#plot frequency vs recency\n",
    "tx_graph = tx_user.query(\"Revenue < 50000 and Frequency < 2000\")\n",
    "\n",
    "plot_data = [\n",
    "    go.Scatter(\n",
    "        x=tx_graph.query(\"Segment == 'Low-Value'\")['Recency'],\n",
    "        y=tx_graph.query(\"Segment == 'Low-Value'\")['Frequency'],\n",
    "        mode='markers',\n",
    "        name='Low',\n",
    "        marker= dict(size= 7,\n",
    "            line= dict(width=1),\n",
    "            color= 'blue',\n",
    "            opacity= 0.8\n",
    "           )\n",
    "    ),\n",
    "        go.Scatter(\n",
    "        x=tx_graph.query(\"Segment == 'Mid-Value'\")['Recency'],\n",
    "        y=tx_graph.query(\"Segment == 'Mid-Value'\")['Frequency'],\n",
    "        mode='markers',\n",
    "        name='Mid',\n",
    "        marker= dict(size= 9,\n",
    "            line= dict(width=1),\n",
    "            color= 'green',\n",
    "            opacity= 0.5\n",
    "           )\n",
    "    ),\n",
    "        go.Scatter(\n",
    "        x=tx_graph.query(\"Segment == 'High-Value'\")['Recency'],\n",
    "        y=tx_graph.query(\"Segment == 'High-Value'\")['Frequency'],\n",
    "        mode='markers',\n",
    "        name='High',\n",
    "        marker= dict(size= 11,\n",
    "            line= dict(width=1),\n",
    "            color= 'red',\n",
    "            opacity= 0.9\n",
    "           )\n",
    "    ),\n",
    "]\n",
    "\n",
    "plot_layout = go.Layout(\n",
    "        yaxis= {'title': \"Frequency\"},\n",
    "        xaxis= {'title': \"Recency\"},\n",
    "        title='Segments'\n",
    "    )\n",
    "fig = go.Figure(data=plot_data, layout=plot_layout)\n",
    "pyoff.iplot(fig)"
   ]
  },
  {
   "cell_type": "markdown",
   "metadata": {},
   "source": [
    "First, I create a dataframe with unique_user_id and transaction_timestamp (not datetime).\n",
    "Then I will remove the duplicates (I have done that already, but just to make sure) since customers can do multiple purchases in a day and difference will become 0 for those."
   ]
  },
  {
   "cell_type": "code",
   "execution_count": 132,
   "metadata": {},
   "outputs": [],
   "source": [
    "#create a dataframe with unique_user_id and transaction_timestamp\n",
    "tx_day_order = last_sm[['unique_user_id','transaction_timestamp']]\n",
    "#convert Invoice Datetime to day\n",
    "tx_day_order['transaction_timestamp'] = last_sm['transaction_timestamp'].dt.date\n",
    "tx_day_order = tx_day_order.sort_values(['unique_user_id','transaction_timestamp'])\n",
    "# #drop duplicates\n",
    "# tx_day_order = tx_day_order.drop_duplicates(subset=['unique_user_id','transaction_timestamp'],keep='first')"
   ]
  },
  {
   "cell_type": "markdown",
   "metadata": {},
   "source": [
    "Next, by using shift, I create new columns with the dates of last 3 purchases and see how our dataframe looks like:"
   ]
  },
  {
   "cell_type": "code",
   "execution_count": 133,
   "metadata": {},
   "outputs": [],
   "source": [
    "#shifting last 3 purchase dates\n",
    "tx_day_order['PrevInvoiceDate'] = tx_day_order.groupby('unique_user_id')['transaction_timestamp'].shift(1)\n",
    "tx_day_order['T2InvoiceDate'] = tx_day_order.groupby('unique_user_id')['transaction_timestamp'].shift(2)\n",
    "tx_day_order['T3InvoiceDate'] = tx_day_order.groupby('unique_user_id')['transaction_timestamp'].shift(3)"
   ]
  },
  {
   "cell_type": "code",
   "execution_count": 134,
   "metadata": {},
   "outputs": [
    {
     "data": {
      "text/plain": [
       "(29855,)"
      ]
     },
     "execution_count": 134,
     "metadata": {},
     "output_type": "execute_result"
    }
   ],
   "source": [
    "tx_day_order['T2InvoiceDate'].shape"
   ]
  },
  {
   "cell_type": "markdown",
   "metadata": {},
   "source": [
    "Let’s begin calculating the difference in days for each invoice date:"
   ]
  },
  {
   "cell_type": "code",
   "execution_count": 135,
   "metadata": {},
   "outputs": [],
   "source": [
    "tx_day_order['DayDiff'] = (tx_day_order['transaction_timestamp'] - tx_day_order['PrevInvoiceDate']).dt.days\n",
    "tx_day_order['DayDiff2'] = (tx_day_order['transaction_timestamp'] - tx_day_order['T2InvoiceDate']).dt.days\n",
    "tx_day_order['DayDiff3'] = (tx_day_order['transaction_timestamp'] - tx_day_order['T3InvoiceDate']).dt.days"
   ]
  },
  {
   "cell_type": "code",
   "execution_count": 136,
   "metadata": {},
   "outputs": [
    {
     "data": {
      "text/html": [
       "<div>\n",
       "<style scoped>\n",
       "    .dataframe tbody tr th:only-of-type {\n",
       "        vertical-align: middle;\n",
       "    }\n",
       "\n",
       "    .dataframe tbody tr th {\n",
       "        vertical-align: top;\n",
       "    }\n",
       "\n",
       "    .dataframe thead th {\n",
       "        text-align: right;\n",
       "    }\n",
       "</style>\n",
       "<table border=\"1\" class=\"dataframe\">\n",
       "  <thead>\n",
       "    <tr style=\"text-align: right;\">\n",
       "      <th></th>\n",
       "      <th>unique_user_id</th>\n",
       "      <th>transaction_timestamp</th>\n",
       "      <th>PrevInvoiceDate</th>\n",
       "      <th>T2InvoiceDate</th>\n",
       "      <th>T3InvoiceDate</th>\n",
       "      <th>DayDiff</th>\n",
       "      <th>DayDiff2</th>\n",
       "      <th>DayDiff3</th>\n",
       "    </tr>\n",
       "  </thead>\n",
       "  <tbody>\n",
       "    <tr>\n",
       "      <th>101225</th>\n",
       "      <td>0003322h53dgi8e8hfeg38d5610f1354</td>\n",
       "      <td>2018-04-21</td>\n",
       "      <td>NaN</td>\n",
       "      <td>NaN</td>\n",
       "      <td>NaN</td>\n",
       "      <td>NaN</td>\n",
       "      <td>NaN</td>\n",
       "      <td>NaN</td>\n",
       "    </tr>\n",
       "    <tr>\n",
       "      <th>88844</th>\n",
       "      <td>0004807g89271401hif2fgefgd5dii22</td>\n",
       "      <td>2018-04-24</td>\n",
       "      <td>NaN</td>\n",
       "      <td>NaN</td>\n",
       "      <td>NaN</td>\n",
       "      <td>NaN</td>\n",
       "      <td>NaN</td>\n",
       "      <td>NaN</td>\n",
       "    </tr>\n",
       "    <tr>\n",
       "      <th>90077</th>\n",
       "      <td>0005f31970g625e1d03777g3792h5hf2</td>\n",
       "      <td>2018-06-28</td>\n",
       "      <td>NaN</td>\n",
       "      <td>NaN</td>\n",
       "      <td>NaN</td>\n",
       "      <td>NaN</td>\n",
       "      <td>NaN</td>\n",
       "      <td>NaN</td>\n",
       "    </tr>\n",
       "    <tr>\n",
       "      <th>19434</th>\n",
       "      <td>000858eed2g2i449d327g61944i34863</td>\n",
       "      <td>2018-06-08</td>\n",
       "      <td>NaN</td>\n",
       "      <td>NaN</td>\n",
       "      <td>NaN</td>\n",
       "      <td>NaN</td>\n",
       "      <td>NaN</td>\n",
       "      <td>NaN</td>\n",
       "    </tr>\n",
       "    <tr>\n",
       "      <th>30590</th>\n",
       "      <td>000e8d9i449h9e9g7i05i976d921222g</td>\n",
       "      <td>2018-05-28</td>\n",
       "      <td>NaN</td>\n",
       "      <td>NaN</td>\n",
       "      <td>NaN</td>\n",
       "      <td>NaN</td>\n",
       "      <td>NaN</td>\n",
       "      <td>NaN</td>\n",
       "    </tr>\n",
       "    <tr>\n",
       "      <th>62615</th>\n",
       "      <td>000f3gd907f1d8h427364gg9e987353e</td>\n",
       "      <td>2018-08-16</td>\n",
       "      <td>NaN</td>\n",
       "      <td>NaN</td>\n",
       "      <td>NaN</td>\n",
       "      <td>NaN</td>\n",
       "      <td>NaN</td>\n",
       "      <td>NaN</td>\n",
       "    </tr>\n",
       "    <tr>\n",
       "      <th>71203</th>\n",
       "      <td>000h81778h782e347h71ife03h67ifi7</td>\n",
       "      <td>2018-05-08</td>\n",
       "      <td>NaN</td>\n",
       "      <td>NaN</td>\n",
       "      <td>NaN</td>\n",
       "      <td>NaN</td>\n",
       "      <td>NaN</td>\n",
       "      <td>NaN</td>\n",
       "    </tr>\n",
       "    <tr>\n",
       "      <th>61821</th>\n",
       "      <td>000i64d6hd181h293d64555e24edh2f1</td>\n",
       "      <td>2018-06-17</td>\n",
       "      <td>NaN</td>\n",
       "      <td>NaN</td>\n",
       "      <td>NaN</td>\n",
       "      <td>NaN</td>\n",
       "      <td>NaN</td>\n",
       "      <td>NaN</td>\n",
       "    </tr>\n",
       "    <tr>\n",
       "      <th>89693</th>\n",
       "      <td>000i84f94517gef30i5f941ige98e37e</td>\n",
       "      <td>2018-08-07</td>\n",
       "      <td>NaN</td>\n",
       "      <td>NaN</td>\n",
       "      <td>NaN</td>\n",
       "      <td>NaN</td>\n",
       "      <td>NaN</td>\n",
       "      <td>NaN</td>\n",
       "    </tr>\n",
       "    <tr>\n",
       "      <th>3037</th>\n",
       "      <td>000id1e969i533iieif9d6512gg1dfe5</td>\n",
       "      <td>2018-06-10</td>\n",
       "      <td>NaN</td>\n",
       "      <td>NaN</td>\n",
       "      <td>NaN</td>\n",
       "      <td>NaN</td>\n",
       "      <td>NaN</td>\n",
       "      <td>NaN</td>\n",
       "    </tr>\n",
       "  </tbody>\n",
       "</table>\n",
       "</div>"
      ],
      "text/plain": [
       "                          unique_user_id transaction_timestamp  \\\n",
       "101225  0003322h53dgi8e8hfeg38d5610f1354            2018-04-21   \n",
       "88844   0004807g89271401hif2fgefgd5dii22            2018-04-24   \n",
       "90077   0005f31970g625e1d03777g3792h5hf2            2018-06-28   \n",
       "19434   000858eed2g2i449d327g61944i34863            2018-06-08   \n",
       "30590   000e8d9i449h9e9g7i05i976d921222g            2018-05-28   \n",
       "62615   000f3gd907f1d8h427364gg9e987353e            2018-08-16   \n",
       "71203   000h81778h782e347h71ife03h67ifi7            2018-05-08   \n",
       "61821   000i64d6hd181h293d64555e24edh2f1            2018-06-17   \n",
       "89693   000i84f94517gef30i5f941ige98e37e            2018-08-07   \n",
       "3037    000id1e969i533iieif9d6512gg1dfe5            2018-06-10   \n",
       "\n",
       "       PrevInvoiceDate T2InvoiceDate T3InvoiceDate  DayDiff  DayDiff2  \\\n",
       "101225             NaN           NaN           NaN      NaN       NaN   \n",
       "88844              NaN           NaN           NaN      NaN       NaN   \n",
       "90077              NaN           NaN           NaN      NaN       NaN   \n",
       "19434              NaN           NaN           NaN      NaN       NaN   \n",
       "30590              NaN           NaN           NaN      NaN       NaN   \n",
       "62615              NaN           NaN           NaN      NaN       NaN   \n",
       "71203              NaN           NaN           NaN      NaN       NaN   \n",
       "61821              NaN           NaN           NaN      NaN       NaN   \n",
       "89693              NaN           NaN           NaN      NaN       NaN   \n",
       "3037               NaN           NaN           NaN      NaN       NaN   \n",
       "\n",
       "        DayDiff3  \n",
       "101225       NaN  \n",
       "88844        NaN  \n",
       "90077        NaN  \n",
       "19434        NaN  \n",
       "30590        NaN  \n",
       "62615        NaN  \n",
       "71203        NaN  \n",
       "61821        NaN  \n",
       "89693        NaN  \n",
       "3037         NaN  "
      ]
     },
     "execution_count": 136,
     "metadata": {},
     "output_type": "execute_result"
    }
   ],
   "source": [
    "tx_day_order.head(10)"
   ]
  },
  {
   "cell_type": "markdown",
   "metadata": {},
   "source": [
    "For each customer ID, I utilize .agg() method to find out the mean and standard deviation of the difference between purchases in days:"
   ]
  },
  {
   "cell_type": "code",
   "execution_count": 137,
   "metadata": {},
   "outputs": [
    {
     "data": {
      "text/plain": [
       "(655, 11)"
      ]
     },
     "execution_count": 137,
     "metadata": {},
     "output_type": "execute_result"
    }
   ],
   "source": [
    "tx_user.shape"
   ]
  },
  {
   "cell_type": "code",
   "execution_count": 138,
   "metadata": {},
   "outputs": [],
   "source": [
    "tx_day_diff = tx_day_order.groupby('unique_user_id').agg({'DayDiff': ['mean','std']}).reset_index()\n",
    "tx_day_diff.columns = ['unique_user_id', 'DayDiffMean','DayDiffStd']"
   ]
  },
  {
   "cell_type": "markdown",
   "metadata": {},
   "source": [
    "Now I'm going to make a tough decision. The calculation above is quite useful for customers who have many purchases. \n",
    "But I can’t say the same for the ones with 1–2 purchases. For instance, it is too early to tag a customer as frequent who has only 2 purchases but back to back.\n",
    "I only keep customers who have > 3 purchases by using the following line:"
   ]
  },
  {
   "cell_type": "code",
   "execution_count": 139,
   "metadata": {},
   "outputs": [],
   "source": [
    "tx_day_order_last = tx_day_order.drop_duplicates(subset=['unique_user_id'],keep='last')"
   ]
  },
  {
   "cell_type": "markdown",
   "metadata": {},
   "source": [
    "Finally, I drop NA values, merge new dataframes with tx_user and apply .get_dummies() for converting categorical values:"
   ]
  },
  {
   "cell_type": "code",
   "execution_count": 140,
   "metadata": {},
   "outputs": [
    {
     "data": {
      "text/html": [
       "<div>\n",
       "<style scoped>\n",
       "    .dataframe tbody tr th:only-of-type {\n",
       "        vertical-align: middle;\n",
       "    }\n",
       "\n",
       "    .dataframe tbody tr th {\n",
       "        vertical-align: top;\n",
       "    }\n",
       "\n",
       "    .dataframe thead th {\n",
       "        text-align: right;\n",
       "    }\n",
       "</style>\n",
       "<table border=\"1\" class=\"dataframe\">\n",
       "  <thead>\n",
       "    <tr style=\"text-align: right;\">\n",
       "      <th></th>\n",
       "      <th>unique_user_id</th>\n",
       "      <th>transaction_timestamp</th>\n",
       "      <th>PrevInvoiceDate</th>\n",
       "      <th>T2InvoiceDate</th>\n",
       "      <th>T3InvoiceDate</th>\n",
       "      <th>DayDiff</th>\n",
       "      <th>DayDiff2</th>\n",
       "      <th>DayDiff3</th>\n",
       "    </tr>\n",
       "  </thead>\n",
       "  <tbody>\n",
       "    <tr>\n",
       "      <th>101225</th>\n",
       "      <td>0003322h53dgi8e8hfeg38d5610f1354</td>\n",
       "      <td>2018-04-21</td>\n",
       "      <td>NaN</td>\n",
       "      <td>NaN</td>\n",
       "      <td>NaN</td>\n",
       "      <td>NaN</td>\n",
       "      <td>NaN</td>\n",
       "      <td>NaN</td>\n",
       "    </tr>\n",
       "    <tr>\n",
       "      <th>88844</th>\n",
       "      <td>0004807g89271401hif2fgefgd5dii22</td>\n",
       "      <td>2018-04-24</td>\n",
       "      <td>NaN</td>\n",
       "      <td>NaN</td>\n",
       "      <td>NaN</td>\n",
       "      <td>NaN</td>\n",
       "      <td>NaN</td>\n",
       "      <td>NaN</td>\n",
       "    </tr>\n",
       "    <tr>\n",
       "      <th>90077</th>\n",
       "      <td>0005f31970g625e1d03777g3792h5hf2</td>\n",
       "      <td>2018-06-28</td>\n",
       "      <td>NaN</td>\n",
       "      <td>NaN</td>\n",
       "      <td>NaN</td>\n",
       "      <td>NaN</td>\n",
       "      <td>NaN</td>\n",
       "      <td>NaN</td>\n",
       "    </tr>\n",
       "    <tr>\n",
       "      <th>19434</th>\n",
       "      <td>000858eed2g2i449d327g61944i34863</td>\n",
       "      <td>2018-06-08</td>\n",
       "      <td>NaN</td>\n",
       "      <td>NaN</td>\n",
       "      <td>NaN</td>\n",
       "      <td>NaN</td>\n",
       "      <td>NaN</td>\n",
       "      <td>NaN</td>\n",
       "    </tr>\n",
       "    <tr>\n",
       "      <th>30590</th>\n",
       "      <td>000e8d9i449h9e9g7i05i976d921222g</td>\n",
       "      <td>2018-05-28</td>\n",
       "      <td>NaN</td>\n",
       "      <td>NaN</td>\n",
       "      <td>NaN</td>\n",
       "      <td>NaN</td>\n",
       "      <td>NaN</td>\n",
       "      <td>NaN</td>\n",
       "    </tr>\n",
       "  </tbody>\n",
       "</table>\n",
       "</div>"
      ],
      "text/plain": [
       "                          unique_user_id transaction_timestamp  \\\n",
       "101225  0003322h53dgi8e8hfeg38d5610f1354            2018-04-21   \n",
       "88844   0004807g89271401hif2fgefgd5dii22            2018-04-24   \n",
       "90077   0005f31970g625e1d03777g3792h5hf2            2018-06-28   \n",
       "19434   000858eed2g2i449d327g61944i34863            2018-06-08   \n",
       "30590   000e8d9i449h9e9g7i05i976d921222g            2018-05-28   \n",
       "\n",
       "       PrevInvoiceDate T2InvoiceDate T3InvoiceDate  DayDiff  DayDiff2  \\\n",
       "101225             NaN           NaN           NaN      NaN       NaN   \n",
       "88844              NaN           NaN           NaN      NaN       NaN   \n",
       "90077              NaN           NaN           NaN      NaN       NaN   \n",
       "19434              NaN           NaN           NaN      NaN       NaN   \n",
       "30590              NaN           NaN           NaN      NaN       NaN   \n",
       "\n",
       "        DayDiff3  \n",
       "101225       NaN  \n",
       "88844        NaN  \n",
       "90077        NaN  \n",
       "19434        NaN  \n",
       "30590        NaN  "
      ]
     },
     "execution_count": 140,
     "metadata": {},
     "output_type": "execute_result"
    }
   ],
   "source": [
    "tx_day_order_last.head(5)"
   ]
  },
  {
   "cell_type": "code",
   "execution_count": 141,
   "metadata": {},
   "outputs": [],
   "source": [
    "# tx_day_order_last = tx_day_order_last.dropna()\n",
    "# tx_day_order_last = pd.merge(tx_day_order_last, tx_day_diff, on='unique_user_id')\n",
    "# tx_user = pd.merge(tx_user, tx_day_order_last[['unique_user_id','DayDiff','DayDiff2','DayDiff3','DayDiffMean','DayDiffStd']], on='unique_user_id')\n",
    "#create tx_class as a copy of tx_user before applying get_dummies\n",
    "tx_class = tx_user.copy()\n",
    "# tx_class = pd.get_dummies(tx_class)"
   ]
  },
  {
   "cell_type": "code",
   "execution_count": 142,
   "metadata": {},
   "outputs": [
    {
     "data": {
      "text/html": [
       "<div>\n",
       "<style scoped>\n",
       "    .dataframe tbody tr th:only-of-type {\n",
       "        vertical-align: middle;\n",
       "    }\n",
       "\n",
       "    .dataframe tbody tr th {\n",
       "        vertical-align: top;\n",
       "    }\n",
       "\n",
       "    .dataframe thead th {\n",
       "        text-align: right;\n",
       "    }\n",
       "</style>\n",
       "<table border=\"1\" class=\"dataframe\">\n",
       "  <thead>\n",
       "    <tr style=\"text-align: right;\">\n",
       "      <th></th>\n",
       "      <th>unique_user_id</th>\n",
       "      <th>transaction_timestamp</th>\n",
       "      <th>PrevInvoiceDate</th>\n",
       "      <th>T2InvoiceDate</th>\n",
       "      <th>T3InvoiceDate</th>\n",
       "      <th>DayDiff</th>\n",
       "      <th>DayDiff2</th>\n",
       "      <th>DayDiff3</th>\n",
       "    </tr>\n",
       "  </thead>\n",
       "  <tbody>\n",
       "    <tr>\n",
       "      <th>101225</th>\n",
       "      <td>0003322h53dgi8e8hfeg38d5610f1354</td>\n",
       "      <td>2018-04-21</td>\n",
       "      <td>NaN</td>\n",
       "      <td>NaN</td>\n",
       "      <td>NaN</td>\n",
       "      <td>NaN</td>\n",
       "      <td>NaN</td>\n",
       "      <td>NaN</td>\n",
       "    </tr>\n",
       "    <tr>\n",
       "      <th>88844</th>\n",
       "      <td>0004807g89271401hif2fgefgd5dii22</td>\n",
       "      <td>2018-04-24</td>\n",
       "      <td>NaN</td>\n",
       "      <td>NaN</td>\n",
       "      <td>NaN</td>\n",
       "      <td>NaN</td>\n",
       "      <td>NaN</td>\n",
       "      <td>NaN</td>\n",
       "    </tr>\n",
       "    <tr>\n",
       "      <th>90077</th>\n",
       "      <td>0005f31970g625e1d03777g3792h5hf2</td>\n",
       "      <td>2018-06-28</td>\n",
       "      <td>NaN</td>\n",
       "      <td>NaN</td>\n",
       "      <td>NaN</td>\n",
       "      <td>NaN</td>\n",
       "      <td>NaN</td>\n",
       "      <td>NaN</td>\n",
       "    </tr>\n",
       "    <tr>\n",
       "      <th>19434</th>\n",
       "      <td>000858eed2g2i449d327g61944i34863</td>\n",
       "      <td>2018-06-08</td>\n",
       "      <td>NaN</td>\n",
       "      <td>NaN</td>\n",
       "      <td>NaN</td>\n",
       "      <td>NaN</td>\n",
       "      <td>NaN</td>\n",
       "      <td>NaN</td>\n",
       "    </tr>\n",
       "    <tr>\n",
       "      <th>30590</th>\n",
       "      <td>000e8d9i449h9e9g7i05i976d921222g</td>\n",
       "      <td>2018-05-28</td>\n",
       "      <td>NaN</td>\n",
       "      <td>NaN</td>\n",
       "      <td>NaN</td>\n",
       "      <td>NaN</td>\n",
       "      <td>NaN</td>\n",
       "      <td>NaN</td>\n",
       "    </tr>\n",
       "  </tbody>\n",
       "</table>\n",
       "</div>"
      ],
      "text/plain": [
       "                          unique_user_id transaction_timestamp  \\\n",
       "101225  0003322h53dgi8e8hfeg38d5610f1354            2018-04-21   \n",
       "88844   0004807g89271401hif2fgefgd5dii22            2018-04-24   \n",
       "90077   0005f31970g625e1d03777g3792h5hf2            2018-06-28   \n",
       "19434   000858eed2g2i449d327g61944i34863            2018-06-08   \n",
       "30590   000e8d9i449h9e9g7i05i976d921222g            2018-05-28   \n",
       "\n",
       "       PrevInvoiceDate T2InvoiceDate T3InvoiceDate  DayDiff  DayDiff2  \\\n",
       "101225             NaN           NaN           NaN      NaN       NaN   \n",
       "88844              NaN           NaN           NaN      NaN       NaN   \n",
       "90077              NaN           NaN           NaN      NaN       NaN   \n",
       "19434              NaN           NaN           NaN      NaN       NaN   \n",
       "30590              NaN           NaN           NaN      NaN       NaN   \n",
       "\n",
       "        DayDiff3  \n",
       "101225       NaN  \n",
       "88844        NaN  \n",
       "90077        NaN  \n",
       "19434        NaN  \n",
       "30590        NaN  "
      ]
     },
     "execution_count": 142,
     "metadata": {},
     "output_type": "execute_result"
    }
   ],
   "source": [
    "tx_day_order_last.head(5)"
   ]
  },
  {
   "cell_type": "code",
   "execution_count": 143,
   "metadata": {},
   "outputs": [],
   "source": [
    "# tx_day_order_last = pd.merge(tx_day_order_last, tx_day_diff, on='unique_user_id')\n",
    "# tx_user = pd.merge(tx_user, tx_day_order_last[['unique_user_id','DayDiff','DayDiff2','DayDiff3','DayDiffMean','DayDiffStd']], on='unique_user_id')\n",
    "#create tx_class as a copy of tx_user before applying get_dummies\n",
    "tx_class = tx_user.copy()\n",
    "# tx_class = pd.get_dummies(tx_class)"
   ]
  },
  {
   "cell_type": "markdown",
   "metadata": {},
   "source": [
    "My feature set is ready for building a classification model. \n",
    "But there are many different models.\n",
    "Let's talk about model selection."
   ]
  },
  {
   "cell_type": "code",
   "execution_count": 144,
   "metadata": {},
   "outputs": [
    {
     "data": {
      "text/html": [
       "<div>\n",
       "<style scoped>\n",
       "    .dataframe tbody tr th:only-of-type {\n",
       "        vertical-align: middle;\n",
       "    }\n",
       "\n",
       "    .dataframe tbody tr th {\n",
       "        vertical-align: top;\n",
       "    }\n",
       "\n",
       "    .dataframe thead th {\n",
       "        text-align: right;\n",
       "    }\n",
       "</style>\n",
       "<table border=\"1\" class=\"dataframe\">\n",
       "  <thead>\n",
       "    <tr style=\"text-align: right;\">\n",
       "      <th></th>\n",
       "      <th>unique_user_id</th>\n",
       "      <th>nextPurchaseDate</th>\n",
       "      <th>user_loc_state</th>\n",
       "      <th>Recency</th>\n",
       "      <th>RecencyCluster</th>\n",
       "      <th>Frequency</th>\n",
       "      <th>FrequencyCluster</th>\n",
       "      <th>Revenue</th>\n",
       "      <th>RevenueCluster</th>\n",
       "      <th>OverallScore</th>\n",
       "      <th>Segment</th>\n",
       "    </tr>\n",
       "  </thead>\n",
       "  <tbody>\n",
       "    <tr>\n",
       "      <th>0</th>\n",
       "      <td>3g25667135i5eeh12i258687108f53ih</td>\n",
       "      <td>208.0</td>\n",
       "      <td>1.0</td>\n",
       "      <td>72</td>\n",
       "      <td>3</td>\n",
       "      <td>1</td>\n",
       "      <td>0</td>\n",
       "      <td>152.95</td>\n",
       "      <td>0</td>\n",
       "      <td>3</td>\n",
       "      <td>Mid-Value</td>\n",
       "    </tr>\n",
       "    <tr>\n",
       "      <th>1</th>\n",
       "      <td>gf59e1d2e1h7dee7697i433f290i7e04</td>\n",
       "      <td>265.0</td>\n",
       "      <td>4.0</td>\n",
       "      <td>57</td>\n",
       "      <td>3</td>\n",
       "      <td>1</td>\n",
       "      <td>0</td>\n",
       "      <td>133.62</td>\n",
       "      <td>0</td>\n",
       "      <td>3</td>\n",
       "      <td>Mid-Value</td>\n",
       "    </tr>\n",
       "    <tr>\n",
       "      <th>2</th>\n",
       "      <td>f8f20221153147h7377dgf009fei2390</td>\n",
       "      <td>251.0</td>\n",
       "      <td>5.0</td>\n",
       "      <td>74</td>\n",
       "      <td>3</td>\n",
       "      <td>1</td>\n",
       "      <td>0</td>\n",
       "      <td>143.04</td>\n",
       "      <td>0</td>\n",
       "      <td>3</td>\n",
       "      <td>Mid-Value</td>\n",
       "    </tr>\n",
       "    <tr>\n",
       "      <th>3</th>\n",
       "      <td>4836f6e9f2fi6hh70269i77033d973f5</td>\n",
       "      <td>174.0</td>\n",
       "      <td>6.0</td>\n",
       "      <td>59</td>\n",
       "      <td>3</td>\n",
       "      <td>1</td>\n",
       "      <td>0</td>\n",
       "      <td>134.28</td>\n",
       "      <td>0</td>\n",
       "      <td>3</td>\n",
       "      <td>Mid-Value</td>\n",
       "    </tr>\n",
       "    <tr>\n",
       "      <th>4</th>\n",
       "      <td>2df5122ehf3f1g0fh9hfhe67ee2253f8</td>\n",
       "      <td>190.0</td>\n",
       "      <td>6.0</td>\n",
       "      <td>58</td>\n",
       "      <td>3</td>\n",
       "      <td>1</td>\n",
       "      <td>0</td>\n",
       "      <td>149.11</td>\n",
       "      <td>0</td>\n",
       "      <td>3</td>\n",
       "      <td>Mid-Value</td>\n",
       "    </tr>\n",
       "  </tbody>\n",
       "</table>\n",
       "</div>"
      ],
      "text/plain": [
       "                     unique_user_id  nextPurchaseDate  user_loc_state  \\\n",
       "0  3g25667135i5eeh12i258687108f53ih             208.0             1.0   \n",
       "1  gf59e1d2e1h7dee7697i433f290i7e04             265.0             4.0   \n",
       "2  f8f20221153147h7377dgf009fei2390             251.0             5.0   \n",
       "3  4836f6e9f2fi6hh70269i77033d973f5             174.0             6.0   \n",
       "4  2df5122ehf3f1g0fh9hfhe67ee2253f8             190.0             6.0   \n",
       "\n",
       "   Recency  RecencyCluster  Frequency  FrequencyCluster  Revenue  \\\n",
       "0       72               3          1                 0   152.95   \n",
       "1       57               3          1                 0   133.62   \n",
       "2       74               3          1                 0   143.04   \n",
       "3       59               3          1                 0   134.28   \n",
       "4       58               3          1                 0   149.11   \n",
       "\n",
       "   RevenueCluster  OverallScore    Segment  \n",
       "0               0             3  Mid-Value  \n",
       "1               0             3  Mid-Value  \n",
       "2               0             3  Mid-Value  \n",
       "3               0             3  Mid-Value  \n",
       "4               0             3  Mid-Value  "
      ]
     },
     "execution_count": 144,
     "metadata": {},
     "output_type": "execute_result"
    }
   ],
   "source": [
    "tx_user.head(5)"
   ]
  },
  {
   "cell_type": "code",
   "execution_count": 145,
   "metadata": {},
   "outputs": [
    {
     "data": {
      "text/html": [
       "<div>\n",
       "<style scoped>\n",
       "    .dataframe tbody tr th:only-of-type {\n",
       "        vertical-align: middle;\n",
       "    }\n",
       "\n",
       "    .dataframe tbody tr th {\n",
       "        vertical-align: top;\n",
       "    }\n",
       "\n",
       "    .dataframe thead th {\n",
       "        text-align: right;\n",
       "    }\n",
       "</style>\n",
       "<table border=\"1\" class=\"dataframe\">\n",
       "  <thead>\n",
       "    <tr style=\"text-align: right;\">\n",
       "      <th></th>\n",
       "      <th>unique_user_id</th>\n",
       "      <th>nextPurchaseDate</th>\n",
       "      <th>user_loc_state</th>\n",
       "      <th>Recency</th>\n",
       "      <th>RecencyCluster</th>\n",
       "      <th>Frequency</th>\n",
       "      <th>FrequencyCluster</th>\n",
       "      <th>Revenue</th>\n",
       "      <th>RevenueCluster</th>\n",
       "      <th>OverallScore</th>\n",
       "      <th>Segment</th>\n",
       "    </tr>\n",
       "  </thead>\n",
       "  <tbody>\n",
       "    <tr>\n",
       "      <th>0</th>\n",
       "      <td>3g25667135i5eeh12i258687108f53ih</td>\n",
       "      <td>208.0</td>\n",
       "      <td>1.0</td>\n",
       "      <td>72</td>\n",
       "      <td>3</td>\n",
       "      <td>1</td>\n",
       "      <td>0</td>\n",
       "      <td>152.95</td>\n",
       "      <td>0</td>\n",
       "      <td>3</td>\n",
       "      <td>Mid-Value</td>\n",
       "    </tr>\n",
       "    <tr>\n",
       "      <th>1</th>\n",
       "      <td>gf59e1d2e1h7dee7697i433f290i7e04</td>\n",
       "      <td>265.0</td>\n",
       "      <td>4.0</td>\n",
       "      <td>57</td>\n",
       "      <td>3</td>\n",
       "      <td>1</td>\n",
       "      <td>0</td>\n",
       "      <td>133.62</td>\n",
       "      <td>0</td>\n",
       "      <td>3</td>\n",
       "      <td>Mid-Value</td>\n",
       "    </tr>\n",
       "    <tr>\n",
       "      <th>2</th>\n",
       "      <td>f8f20221153147h7377dgf009fei2390</td>\n",
       "      <td>251.0</td>\n",
       "      <td>5.0</td>\n",
       "      <td>74</td>\n",
       "      <td>3</td>\n",
       "      <td>1</td>\n",
       "      <td>0</td>\n",
       "      <td>143.04</td>\n",
       "      <td>0</td>\n",
       "      <td>3</td>\n",
       "      <td>Mid-Value</td>\n",
       "    </tr>\n",
       "    <tr>\n",
       "      <th>3</th>\n",
       "      <td>4836f6e9f2fi6hh70269i77033d973f5</td>\n",
       "      <td>174.0</td>\n",
       "      <td>6.0</td>\n",
       "      <td>59</td>\n",
       "      <td>3</td>\n",
       "      <td>1</td>\n",
       "      <td>0</td>\n",
       "      <td>134.28</td>\n",
       "      <td>0</td>\n",
       "      <td>3</td>\n",
       "      <td>Mid-Value</td>\n",
       "    </tr>\n",
       "    <tr>\n",
       "      <th>4</th>\n",
       "      <td>2df5122ehf3f1g0fh9hfhe67ee2253f8</td>\n",
       "      <td>190.0</td>\n",
       "      <td>6.0</td>\n",
       "      <td>58</td>\n",
       "      <td>3</td>\n",
       "      <td>1</td>\n",
       "      <td>0</td>\n",
       "      <td>149.11</td>\n",
       "      <td>0</td>\n",
       "      <td>3</td>\n",
       "      <td>Mid-Value</td>\n",
       "    </tr>\n",
       "  </tbody>\n",
       "</table>\n",
       "</div>"
      ],
      "text/plain": [
       "                     unique_user_id  nextPurchaseDate  user_loc_state  \\\n",
       "0  3g25667135i5eeh12i258687108f53ih             208.0             1.0   \n",
       "1  gf59e1d2e1h7dee7697i433f290i7e04             265.0             4.0   \n",
       "2  f8f20221153147h7377dgf009fei2390             251.0             5.0   \n",
       "3  4836f6e9f2fi6hh70269i77033d973f5             174.0             6.0   \n",
       "4  2df5122ehf3f1g0fh9hfhe67ee2253f8             190.0             6.0   \n",
       "\n",
       "   Recency  RecencyCluster  Frequency  FrequencyCluster  Revenue  \\\n",
       "0       72               3          1                 0   152.95   \n",
       "1       57               3          1                 0   133.62   \n",
       "2       74               3          1                 0   143.04   \n",
       "3       59               3          1                 0   134.28   \n",
       "4       58               3          1                 0   149.11   \n",
       "\n",
       "   RevenueCluster  OverallScore    Segment  \n",
       "0               0             3  Mid-Value  \n",
       "1               0             3  Mid-Value  \n",
       "2               0             3  Mid-Value  \n",
       "3               0             3  Mid-Value  \n",
       "4               0             3  Mid-Value  "
      ]
     },
     "execution_count": 145,
     "metadata": {},
     "output_type": "execute_result"
    }
   ],
   "source": [
    "tx_class.head(5)"
   ]
  },
  {
   "cell_type": "markdown",
   "metadata": {},
   "source": [
    "This feature doesn't work. Therefore, I'm going to use Recency, Revenue, and Frequency features for my classification model.\n",
    "Deciding the boundaries is a question for both statistics and business needs. It should make sense in terms of the first one and be easy to take action and communicate. \n",
    "Considering these two, I will have three classes:\n",
    "0–20: Customers that will purchase in 0–20 days — Class name: 2\n",
    "21–49: Customers that will purchase in 21–49 days — Class name: 1\n",
    "≥ 50: Customers that will purchase in more than 50 days — Class name: 0"
   ]
  },
  {
   "cell_type": "code",
   "execution_count": 146,
   "metadata": {},
   "outputs": [
    {
     "data": {
      "text/html": [
       "<div>\n",
       "<style scoped>\n",
       "    .dataframe tbody tr th:only-of-type {\n",
       "        vertical-align: middle;\n",
       "    }\n",
       "\n",
       "    .dataframe tbody tr th {\n",
       "        vertical-align: top;\n",
       "    }\n",
       "\n",
       "    .dataframe thead th {\n",
       "        text-align: right;\n",
       "    }\n",
       "</style>\n",
       "<table border=\"1\" class=\"dataframe\">\n",
       "  <thead>\n",
       "    <tr style=\"text-align: right;\">\n",
       "      <th></th>\n",
       "      <th>unique_user_id</th>\n",
       "      <th>nextPurchaseDate</th>\n",
       "      <th>user_loc_state</th>\n",
       "      <th>Recency</th>\n",
       "      <th>RecencyCluster</th>\n",
       "      <th>Frequency</th>\n",
       "      <th>FrequencyCluster</th>\n",
       "      <th>Revenue</th>\n",
       "      <th>RevenueCluster</th>\n",
       "      <th>OverallScore</th>\n",
       "      <th>Segment</th>\n",
       "    </tr>\n",
       "  </thead>\n",
       "  <tbody>\n",
       "    <tr>\n",
       "      <th>0</th>\n",
       "      <td>3g25667135i5eeh12i258687108f53ih</td>\n",
       "      <td>208.0</td>\n",
       "      <td>1.0</td>\n",
       "      <td>72</td>\n",
       "      <td>3</td>\n",
       "      <td>1</td>\n",
       "      <td>0</td>\n",
       "      <td>152.95</td>\n",
       "      <td>0</td>\n",
       "      <td>3</td>\n",
       "      <td>Mid-Value</td>\n",
       "    </tr>\n",
       "    <tr>\n",
       "      <th>1</th>\n",
       "      <td>gf59e1d2e1h7dee7697i433f290i7e04</td>\n",
       "      <td>265.0</td>\n",
       "      <td>4.0</td>\n",
       "      <td>57</td>\n",
       "      <td>3</td>\n",
       "      <td>1</td>\n",
       "      <td>0</td>\n",
       "      <td>133.62</td>\n",
       "      <td>0</td>\n",
       "      <td>3</td>\n",
       "      <td>Mid-Value</td>\n",
       "    </tr>\n",
       "    <tr>\n",
       "      <th>2</th>\n",
       "      <td>f8f20221153147h7377dgf009fei2390</td>\n",
       "      <td>251.0</td>\n",
       "      <td>5.0</td>\n",
       "      <td>74</td>\n",
       "      <td>3</td>\n",
       "      <td>1</td>\n",
       "      <td>0</td>\n",
       "      <td>143.04</td>\n",
       "      <td>0</td>\n",
       "      <td>3</td>\n",
       "      <td>Mid-Value</td>\n",
       "    </tr>\n",
       "    <tr>\n",
       "      <th>3</th>\n",
       "      <td>4836f6e9f2fi6hh70269i77033d973f5</td>\n",
       "      <td>174.0</td>\n",
       "      <td>6.0</td>\n",
       "      <td>59</td>\n",
       "      <td>3</td>\n",
       "      <td>1</td>\n",
       "      <td>0</td>\n",
       "      <td>134.28</td>\n",
       "      <td>0</td>\n",
       "      <td>3</td>\n",
       "      <td>Mid-Value</td>\n",
       "    </tr>\n",
       "    <tr>\n",
       "      <th>4</th>\n",
       "      <td>2df5122ehf3f1g0fh9hfhe67ee2253f8</td>\n",
       "      <td>190.0</td>\n",
       "      <td>6.0</td>\n",
       "      <td>58</td>\n",
       "      <td>3</td>\n",
       "      <td>1</td>\n",
       "      <td>0</td>\n",
       "      <td>149.11</td>\n",
       "      <td>0</td>\n",
       "      <td>3</td>\n",
       "      <td>Mid-Value</td>\n",
       "    </tr>\n",
       "  </tbody>\n",
       "</table>\n",
       "</div>"
      ],
      "text/plain": [
       "                     unique_user_id  nextPurchaseDate  user_loc_state  \\\n",
       "0  3g25667135i5eeh12i258687108f53ih             208.0             1.0   \n",
       "1  gf59e1d2e1h7dee7697i433f290i7e04             265.0             4.0   \n",
       "2  f8f20221153147h7377dgf009fei2390             251.0             5.0   \n",
       "3  4836f6e9f2fi6hh70269i77033d973f5             174.0             6.0   \n",
       "4  2df5122ehf3f1g0fh9hfhe67ee2253f8             190.0             6.0   \n",
       "\n",
       "   Recency  RecencyCluster  Frequency  FrequencyCluster  Revenue  \\\n",
       "0       72               3          1                 0   152.95   \n",
       "1       57               3          1                 0   133.62   \n",
       "2       74               3          1                 0   143.04   \n",
       "3       59               3          1                 0   134.28   \n",
       "4       58               3          1                 0   149.11   \n",
       "\n",
       "   RevenueCluster  OverallScore    Segment  \n",
       "0               0             3  Mid-Value  \n",
       "1               0             3  Mid-Value  \n",
       "2               0             3  Mid-Value  \n",
       "3               0             3  Mid-Value  \n",
       "4               0             3  Mid-Value  "
      ]
     },
     "execution_count": 146,
     "metadata": {},
     "output_type": "execute_result"
    }
   ],
   "source": [
    "tx_class.head(5)"
   ]
  },
  {
   "cell_type": "code",
   "execution_count": 147,
   "metadata": {},
   "outputs": [],
   "source": [
    "tx_class['nextPurchaseDayRange'] = 2\n",
    "tx_class.loc[tx_class.nextPurchaseDate<180,'nextPurchaseDayRange'] = 1\n",
    "tx_class.loc[tx_class.nextPurchaseDate>180,'nextPurchaseDayRange'] = 0"
   ]
  },
  {
   "cell_type": "code",
   "execution_count": 148,
   "metadata": {},
   "outputs": [
    {
     "data": {
      "text/plain": [
       "<AxesSubplot:>"
      ]
     },
     "execution_count": 148,
     "metadata": {},
     "output_type": "execute_result"
    },
    {
     "data": {
      "image/png": "[encoded data removed]",
      "text/plain": [
       "<Figure size 1080x720 with 2 Axes>"
      ]
     },
     "metadata": {},
     "output_type": "display_data"
    }
   ],
   "source": [
    "corr = tx_class[tx_class.columns].corr()\n",
    "plt.figure(figsize = (15,10))\n",
    "sns.heatmap(corr, annot = True, linewidths=0.2, fmt=\".2f\")"
   ]
  },
  {
   "cell_type": "code",
   "execution_count": 149,
   "metadata": {},
   "outputs": [
    {
     "data": {
      "text/html": [
       "<div>\n",
       "<style scoped>\n",
       "    .dataframe tbody tr th:only-of-type {\n",
       "        vertical-align: middle;\n",
       "    }\n",
       "\n",
       "    .dataframe tbody tr th {\n",
       "        vertical-align: top;\n",
       "    }\n",
       "\n",
       "    .dataframe thead th {\n",
       "        text-align: right;\n",
       "    }\n",
       "</style>\n",
       "<table border=\"1\" class=\"dataframe\">\n",
       "  <thead>\n",
       "    <tr style=\"text-align: right;\">\n",
       "      <th></th>\n",
       "      <th>unique_user_id</th>\n",
       "      <th>nextPurchaseDate</th>\n",
       "      <th>user_loc_state</th>\n",
       "      <th>Recency</th>\n",
       "      <th>RecencyCluster</th>\n",
       "      <th>Frequency</th>\n",
       "      <th>FrequencyCluster</th>\n",
       "      <th>Revenue</th>\n",
       "      <th>RevenueCluster</th>\n",
       "      <th>OverallScore</th>\n",
       "      <th>Segment</th>\n",
       "      <th>nextPurchaseDayRange</th>\n",
       "    </tr>\n",
       "  </thead>\n",
       "  <tbody>\n",
       "    <tr>\n",
       "      <th>0</th>\n",
       "      <td>3g25667135i5eeh12i258687108f53ih</td>\n",
       "      <td>208.0</td>\n",
       "      <td>1.0</td>\n",
       "      <td>72</td>\n",
       "      <td>3</td>\n",
       "      <td>1</td>\n",
       "      <td>0</td>\n",
       "      <td>152.95</td>\n",
       "      <td>0</td>\n",
       "      <td>3</td>\n",
       "      <td>Mid-Value</td>\n",
       "      <td>0</td>\n",
       "    </tr>\n",
       "    <tr>\n",
       "      <th>1</th>\n",
       "      <td>gf59e1d2e1h7dee7697i433f290i7e04</td>\n",
       "      <td>265.0</td>\n",
       "      <td>4.0</td>\n",
       "      <td>57</td>\n",
       "      <td>3</td>\n",
       "      <td>1</td>\n",
       "      <td>0</td>\n",
       "      <td>133.62</td>\n",
       "      <td>0</td>\n",
       "      <td>3</td>\n",
       "      <td>Mid-Value</td>\n",
       "      <td>0</td>\n",
       "    </tr>\n",
       "    <tr>\n",
       "      <th>2</th>\n",
       "      <td>f8f20221153147h7377dgf009fei2390</td>\n",
       "      <td>251.0</td>\n",
       "      <td>5.0</td>\n",
       "      <td>74</td>\n",
       "      <td>3</td>\n",
       "      <td>1</td>\n",
       "      <td>0</td>\n",
       "      <td>143.04</td>\n",
       "      <td>0</td>\n",
       "      <td>3</td>\n",
       "      <td>Mid-Value</td>\n",
       "      <td>0</td>\n",
       "    </tr>\n",
       "    <tr>\n",
       "      <th>3</th>\n",
       "      <td>4836f6e9f2fi6hh70269i77033d973f5</td>\n",
       "      <td>174.0</td>\n",
       "      <td>6.0</td>\n",
       "      <td>59</td>\n",
       "      <td>3</td>\n",
       "      <td>1</td>\n",
       "      <td>0</td>\n",
       "      <td>134.28</td>\n",
       "      <td>0</td>\n",
       "      <td>3</td>\n",
       "      <td>Mid-Value</td>\n",
       "      <td>1</td>\n",
       "    </tr>\n",
       "    <tr>\n",
       "      <th>4</th>\n",
       "      <td>2df5122ehf3f1g0fh9hfhe67ee2253f8</td>\n",
       "      <td>190.0</td>\n",
       "      <td>6.0</td>\n",
       "      <td>58</td>\n",
       "      <td>3</td>\n",
       "      <td>1</td>\n",
       "      <td>0</td>\n",
       "      <td>149.11</td>\n",
       "      <td>0</td>\n",
       "      <td>3</td>\n",
       "      <td>Mid-Value</td>\n",
       "      <td>0</td>\n",
       "    </tr>\n",
       "  </tbody>\n",
       "</table>\n",
       "</div>"
      ],
      "text/plain": [
       "                     unique_user_id  nextPurchaseDate  user_loc_state  \\\n",
       "0  3g25667135i5eeh12i258687108f53ih             208.0             1.0   \n",
       "1  gf59e1d2e1h7dee7697i433f290i7e04             265.0             4.0   \n",
       "2  f8f20221153147h7377dgf009fei2390             251.0             5.0   \n",
       "3  4836f6e9f2fi6hh70269i77033d973f5             174.0             6.0   \n",
       "4  2df5122ehf3f1g0fh9hfhe67ee2253f8             190.0             6.0   \n",
       "\n",
       "   Recency  RecencyCluster  Frequency  FrequencyCluster  Revenue  \\\n",
       "0       72               3          1                 0   152.95   \n",
       "1       57               3          1                 0   133.62   \n",
       "2       74               3          1                 0   143.04   \n",
       "3       59               3          1                 0   134.28   \n",
       "4       58               3          1                 0   149.11   \n",
       "\n",
       "   RevenueCluster  OverallScore    Segment  nextPurchaseDayRange  \n",
       "0               0             3  Mid-Value                     0  \n",
       "1               0             3  Mid-Value                     0  \n",
       "2               0             3  Mid-Value                     0  \n",
       "3               0             3  Mid-Value                     1  \n",
       "4               0             3  Mid-Value                     0  "
      ]
     },
     "execution_count": 149,
     "metadata": {},
     "output_type": "execute_result"
    }
   ],
   "source": [
    "tx_class.head(5)"
   ]
  },
  {
   "cell_type": "code",
   "execution_count": 150,
   "metadata": {},
   "outputs": [],
   "source": [
    "#import machine learning related libraries\n",
    "from sklearn.svm import SVC\n",
    "from sklearn.multioutput import MultiOutputClassifier\n",
    "from sklearn.ensemble import GradientBoostingClassifier\n",
    "from sklearn.tree import DecisionTreeClassifier\n",
    "from sklearn.neighbors import KNeighborsClassifier\n",
    "from sklearn.naive_bayes import GaussianNB\n",
    "from sklearn.ensemble import RandomForestClassifier\n",
    "from sklearn.linear_model import LogisticRegression\n",
    "import xgboost as xgb\n",
    "from sklearn.model_selection import KFold, cross_val_score, train_test_split\n",
    "\n",
    "#train & test split\n",
    "# tx_class=tx_class.drop('Segment',axis=1)\n",
    "tx_class = tx_class.drop('nextPurchaseDate',axis=1)\n",
    "X, y = tx_class.drop('nextPurchaseDayRange',axis=1), tx_class.nextPurchaseDayRange\n",
    "X_train, X_test, y_train, y_test = train_test_split(X, y, test_size=0.2, random_state=44)"
   ]
  },
  {
   "cell_type": "code",
   "execution_count": 151,
   "metadata": {},
   "outputs": [
    {
     "data": {
      "text/plain": [
       "unique_user_id       object\n",
       "user_loc_state      float64\n",
       "Recency               int64\n",
       "RecencyCluster        int64\n",
       "Frequency             int64\n",
       "FrequencyCluster      int64\n",
       "Revenue             float64\n",
       "RevenueCluster        int64\n",
       "OverallScore          int64\n",
       "Segment              object\n",
       "dtype: object"
      ]
     },
     "execution_count": 151,
     "metadata": {},
     "output_type": "execute_result"
    }
   ],
   "source": [
    "X_train.head(5)\n",
    "\n",
    "X_train.dtypes"
   ]
  },
  {
   "cell_type": "code",
   "execution_count": 152,
   "metadata": {},
   "outputs": [],
   "source": [
    "train_identity=X_train[\"unique_user_id\"]\n",
    "X_train=X_train.drop(columns=['unique_user_id'])\n",
    "\n",
    "test_identity=X_test[\"unique_user_id\"]\n",
    "X_test=X_test.drop(columns=['unique_user_id'])\n"
   ]
  },
  {
   "cell_type": "code",
   "execution_count": 153,
   "metadata": {},
   "outputs": [],
   "source": [
    "X = X.drop(columns=['unique_user_id'])"
   ]
  },
  {
   "cell_type": "code",
   "execution_count": 154,
   "metadata": {},
   "outputs": [
    {
     "name": "stdout",
     "output_type": "stream",
     "text": [
      "LR nan\n",
      "NB nan\n",
      "RF nan\n",
      "SVC nan\n",
      "Dtree nan\n",
      "XGB nan\n",
      "KNN nan\n"
     ]
    }
   ],
   "source": [
    "import warnings\n",
    "warnings.filterwarnings('ignore')\n",
    "\n",
    "#create an array of models\n",
    "models = []\n",
    "models.append((\"LR\",LogisticRegression()))\n",
    "models.append((\"NB\",GaussianNB()))\n",
    "models.append((\"RF\",RandomForestClassifier()))\n",
    "models.append((\"SVC\",SVC()))\n",
    "models.append((\"Dtree\",DecisionTreeClassifier()))\n",
    "models.append((\"XGB\",xgb.XGBClassifier()))\n",
    "models.append((\"KNN\",KNeighborsClassifier()))\n",
    "\n",
    "#measure the accuracy \n",
    "for name,model in models:\n",
    "    kfold = KFold(n_splits=4, random_state=22, shuffle=True)\n",
    "    cv_result = cross_val_score(model,X,y, cv = kfold,scoring = \"accuracy\")\n",
    "    print(name, cv_result.mean())"
   ]
  },
  {
   "cell_type": "code",
   "execution_count": 155,
   "metadata": {},
   "outputs": [
    {
     "ename": "ValueError",
     "evalue": "DataFrame.dtypes for data must be int, float, bool or categorical.  When\n                categorical type is supplied, DMatrix parameter\n                `enable_categorical` must be set to `True`.Segment",
     "output_type": "error",
     "traceback": [
      "\u001b[0;31m---------------------------------------------------------------------------\u001b[0m",
      "\u001b[0;31mValueError\u001b[0m                                Traceback (most recent call last)",
      "\u001b[0;32m/var/folders/_s/ts97qz5j0yjf8zz71yltnt2h0000gn/T/ipykernel_1327/49379908.py\u001b[0m in \u001b[0;36m<module>\u001b[0;34m\u001b[0m\n\u001b[0;32m----> 1\u001b[0;31m \u001b[0mxgb_model\u001b[0m \u001b[0;34m=\u001b[0m \u001b[0mxgb\u001b[0m\u001b[0;34m.\u001b[0m\u001b[0mXGBClassifier\u001b[0m\u001b[0;34m(\u001b[0m\u001b[0;34m)\u001b[0m\u001b[0;34m.\u001b[0m\u001b[0mfit\u001b[0m\u001b[0;34m(\u001b[0m\u001b[0mX_train\u001b[0m\u001b[0;34m,\u001b[0m \u001b[0my_train\u001b[0m\u001b[0;34m)\u001b[0m\u001b[0;34m\u001b[0m\u001b[0;34m\u001b[0m\u001b[0m\n\u001b[0m\u001b[1;32m      2\u001b[0m print('Accuracy of XGB classifier on training set: {:.2f}'\n\u001b[1;32m      3\u001b[0m        .format(xgb_model.score(X_train, y_train)))\n\u001b[1;32m      4\u001b[0m print('Accuracy of XGB classifier on test set: {:.2f}'\n\u001b[1;32m      5\u001b[0m        .format(xgb_model.score(X_test[X_train.columns], y_test)))\n",
      "\u001b[0;32m~/.pyenv/versions/3.7.3/lib/python3.7/site-packages/xgboost/core.py\u001b[0m in \u001b[0;36minner_f\u001b[0;34m(*args, **kwargs)\u001b[0m\n\u001b[1;32m    434\u001b[0m         \u001b[0;32mfor\u001b[0m \u001b[0mk\u001b[0m\u001b[0;34m,\u001b[0m \u001b[0marg\u001b[0m \u001b[0;32min\u001b[0m \u001b[0mzip\u001b[0m\u001b[0;34m(\u001b[0m\u001b[0msig\u001b[0m\u001b[0;34m.\u001b[0m\u001b[0mparameters\u001b[0m\u001b[0;34m,\u001b[0m \u001b[0margs\u001b[0m\u001b[0;34m)\u001b[0m\u001b[0;34m:\u001b[0m\u001b[0;34m\u001b[0m\u001b[0;34m\u001b[0m\u001b[0m\n\u001b[1;32m    435\u001b[0m             \u001b[0mkwargs\u001b[0m\u001b[0;34m[\u001b[0m\u001b[0mk\u001b[0m\u001b[0;34m]\u001b[0m \u001b[0;34m=\u001b[0m \u001b[0marg\u001b[0m\u001b[0;34m\u001b[0m\u001b[0;34m\u001b[0m\u001b[0m\n\u001b[0;32m--> 436\u001b[0;31m         \u001b[0;32mreturn\u001b[0m \u001b[0mf\u001b[0m\u001b[0;34m(\u001b[0m\u001b[0;34m**\u001b[0m\u001b[0mkwargs\u001b[0m\u001b[0;34m)\u001b[0m\u001b[0;34m\u001b[0m\u001b[0;34m\u001b[0m\u001b[0m\n\u001b[0m\u001b[1;32m    437\u001b[0m \u001b[0;34m\u001b[0m\u001b[0m\n\u001b[1;32m    438\u001b[0m     \u001b[0;32mreturn\u001b[0m \u001b[0minner_f\u001b[0m\u001b[0;34m\u001b[0m\u001b[0;34m\u001b[0m\u001b[0m\n",
      "\u001b[0;32m~/.pyenv/versions/3.7.3/lib/python3.7/site-packages/xgboost/sklearn.py\u001b[0m in \u001b[0;36mfit\u001b[0;34m(self, X, y, sample_weight, base_margin, eval_set, eval_metric, early_stopping_rounds, verbose, xgb_model, sample_weight_eval_set, base_margin_eval_set, feature_weights, callbacks)\u001b[0m\n\u001b[1;32m   1171\u001b[0m             \u001b[0meval_qid\u001b[0m\u001b[0;34m=\u001b[0m\u001b[0;32mNone\u001b[0m\u001b[0;34m,\u001b[0m\u001b[0;34m\u001b[0m\u001b[0;34m\u001b[0m\u001b[0m\n\u001b[1;32m   1172\u001b[0m             \u001b[0mcreate_dmatrix\u001b[0m\u001b[0;34m=\u001b[0m\u001b[0;32mlambda\u001b[0m \u001b[0;34m**\u001b[0m\u001b[0mkwargs\u001b[0m\u001b[0;34m:\u001b[0m \u001b[0mDMatrix\u001b[0m\u001b[0;34m(\u001b[0m\u001b[0mnthread\u001b[0m\u001b[0;34m=\u001b[0m\u001b[0mself\u001b[0m\u001b[0;34m.\u001b[0m\u001b[0mn_jobs\u001b[0m\u001b[0;34m,\u001b[0m \u001b[0;34m**\u001b[0m\u001b[0mkwargs\u001b[0m\u001b[0;34m)\u001b[0m\u001b[0;34m,\u001b[0m\u001b[0;34m\u001b[0m\u001b[0;34m\u001b[0m\u001b[0m\n\u001b[0;32m-> 1173\u001b[0;31m             \u001b[0mlabel_transform\u001b[0m\u001b[0;34m=\u001b[0m\u001b[0mlabel_transform\u001b[0m\u001b[0;34m,\u001b[0m\u001b[0;34m\u001b[0m\u001b[0;34m\u001b[0m\u001b[0m\n\u001b[0m\u001b[1;32m   1174\u001b[0m         )\n\u001b[1;32m   1175\u001b[0m \u001b[0;34m\u001b[0m\u001b[0m\n",
      "\u001b[0;32m~/.pyenv/versions/3.7.3/lib/python3.7/site-packages/xgboost/sklearn.py\u001b[0m in \u001b[0;36m_wrap_evaluation_matrices\u001b[0;34m(missing, X, y, group, qid, sample_weight, base_margin, feature_weights, eval_set, sample_weight_eval_set, base_margin_eval_set, eval_group, eval_qid, create_dmatrix, label_transform)\u001b[0m\n\u001b[1;32m    242\u001b[0m         \u001b[0mbase_margin\u001b[0m\u001b[0;34m=\u001b[0m\u001b[0mbase_margin\u001b[0m\u001b[0;34m,\u001b[0m\u001b[0;34m\u001b[0m\u001b[0;34m\u001b[0m\u001b[0m\n\u001b[1;32m    243\u001b[0m         \u001b[0mfeature_weights\u001b[0m\u001b[0;34m=\u001b[0m\u001b[0mfeature_weights\u001b[0m\u001b[0;34m,\u001b[0m\u001b[0;34m\u001b[0m\u001b[0;34m\u001b[0m\u001b[0m\n\u001b[0;32m--> 244\u001b[0;31m         \u001b[0mmissing\u001b[0m\u001b[0;34m=\u001b[0m\u001b[0mmissing\u001b[0m\u001b[0;34m,\u001b[0m\u001b[0;34m\u001b[0m\u001b[0;34m\u001b[0m\u001b[0m\n\u001b[0m\u001b[1;32m    245\u001b[0m     )\n\u001b[1;32m    246\u001b[0m \u001b[0;34m\u001b[0m\u001b[0m\n",
      "\u001b[0;32m~/.pyenv/versions/3.7.3/lib/python3.7/site-packages/xgboost/sklearn.py\u001b[0m in \u001b[0;36m<lambda>\u001b[0;34m(**kwargs)\u001b[0m\n\u001b[1;32m   1170\u001b[0m             \u001b[0meval_group\u001b[0m\u001b[0;34m=\u001b[0m\u001b[0;32mNone\u001b[0m\u001b[0;34m,\u001b[0m\u001b[0;34m\u001b[0m\u001b[0;34m\u001b[0m\u001b[0m\n\u001b[1;32m   1171\u001b[0m             \u001b[0meval_qid\u001b[0m\u001b[0;34m=\u001b[0m\u001b[0;32mNone\u001b[0m\u001b[0;34m,\u001b[0m\u001b[0;34m\u001b[0m\u001b[0;34m\u001b[0m\u001b[0m\n\u001b[0;32m-> 1172\u001b[0;31m             \u001b[0mcreate_dmatrix\u001b[0m\u001b[0;34m=\u001b[0m\u001b[0;32mlambda\u001b[0m \u001b[0;34m**\u001b[0m\u001b[0mkwargs\u001b[0m\u001b[0;34m:\u001b[0m \u001b[0mDMatrix\u001b[0m\u001b[0;34m(\u001b[0m\u001b[0mnthread\u001b[0m\u001b[0;34m=\u001b[0m\u001b[0mself\u001b[0m\u001b[0;34m.\u001b[0m\u001b[0mn_jobs\u001b[0m\u001b[0;34m,\u001b[0m \u001b[0;34m**\u001b[0m\u001b[0mkwargs\u001b[0m\u001b[0;34m)\u001b[0m\u001b[0;34m,\u001b[0m\u001b[0;34m\u001b[0m\u001b[0;34m\u001b[0m\u001b[0m\n\u001b[0m\u001b[1;32m   1173\u001b[0m             \u001b[0mlabel_transform\u001b[0m\u001b[0;34m=\u001b[0m\u001b[0mlabel_transform\u001b[0m\u001b[0;34m,\u001b[0m\u001b[0;34m\u001b[0m\u001b[0;34m\u001b[0m\u001b[0m\n\u001b[1;32m   1174\u001b[0m         )\n",
      "\u001b[0;32m~/.pyenv/versions/3.7.3/lib/python3.7/site-packages/xgboost/core.py\u001b[0m in \u001b[0;36minner_f\u001b[0;34m(*args, **kwargs)\u001b[0m\n\u001b[1;32m    434\u001b[0m         \u001b[0;32mfor\u001b[0m \u001b[0mk\u001b[0m\u001b[0;34m,\u001b[0m \u001b[0marg\u001b[0m \u001b[0;32min\u001b[0m \u001b[0mzip\u001b[0m\u001b[0;34m(\u001b[0m\u001b[0msig\u001b[0m\u001b[0;34m.\u001b[0m\u001b[0mparameters\u001b[0m\u001b[0;34m,\u001b[0m \u001b[0margs\u001b[0m\u001b[0;34m)\u001b[0m\u001b[0;34m:\u001b[0m\u001b[0;34m\u001b[0m\u001b[0;34m\u001b[0m\u001b[0m\n\u001b[1;32m    435\u001b[0m             \u001b[0mkwargs\u001b[0m\u001b[0;34m[\u001b[0m\u001b[0mk\u001b[0m\u001b[0;34m]\u001b[0m \u001b[0;34m=\u001b[0m \u001b[0marg\u001b[0m\u001b[0;34m\u001b[0m\u001b[0;34m\u001b[0m\u001b[0m\n\u001b[0;32m--> 436\u001b[0;31m         \u001b[0;32mreturn\u001b[0m \u001b[0mf\u001b[0m\u001b[0;34m(\u001b[0m\u001b[0;34m**\u001b[0m\u001b[0mkwargs\u001b[0m\u001b[0;34m)\u001b[0m\u001b[0;34m\u001b[0m\u001b[0;34m\u001b[0m\u001b[0m\n\u001b[0m\u001b[1;32m    437\u001b[0m \u001b[0;34m\u001b[0m\u001b[0m\n\u001b[1;32m    438\u001b[0m     \u001b[0;32mreturn\u001b[0m \u001b[0minner_f\u001b[0m\u001b[0;34m\u001b[0m\u001b[0;34m\u001b[0m\u001b[0m\n",
      "\u001b[0;32m~/.pyenv/versions/3.7.3/lib/python3.7/site-packages/xgboost/core.py\u001b[0m in \u001b[0;36m__init__\u001b[0;34m(self, data, label, weight, base_margin, missing, silent, feature_names, feature_types, nthread, group, qid, label_lower_bound, label_upper_bound, feature_weights, enable_categorical)\u001b[0m\n\u001b[1;32m    545\u001b[0m             \u001b[0mfeature_names\u001b[0m\u001b[0;34m=\u001b[0m\u001b[0mfeature_names\u001b[0m\u001b[0;34m,\u001b[0m\u001b[0;34m\u001b[0m\u001b[0;34m\u001b[0m\u001b[0m\n\u001b[1;32m    546\u001b[0m             \u001b[0mfeature_types\u001b[0m\u001b[0;34m=\u001b[0m\u001b[0mfeature_types\u001b[0m\u001b[0;34m,\u001b[0m\u001b[0;34m\u001b[0m\u001b[0;34m\u001b[0m\u001b[0m\n\u001b[0;32m--> 547\u001b[0;31m             \u001b[0menable_categorical\u001b[0m\u001b[0;34m=\u001b[0m\u001b[0menable_categorical\u001b[0m\u001b[0;34m,\u001b[0m\u001b[0;34m\u001b[0m\u001b[0;34m\u001b[0m\u001b[0m\n\u001b[0m\u001b[1;32m    548\u001b[0m         )\n\u001b[1;32m    549\u001b[0m         \u001b[0;32massert\u001b[0m \u001b[0mhandle\u001b[0m \u001b[0;32mis\u001b[0m \u001b[0;32mnot\u001b[0m \u001b[0;32mNone\u001b[0m\u001b[0;34m\u001b[0m\u001b[0;34m\u001b[0m\u001b[0m\n",
      "\u001b[0;32m~/.pyenv/versions/3.7.3/lib/python3.7/site-packages/xgboost/data.py\u001b[0m in \u001b[0;36mdispatch_data_backend\u001b[0;34m(data, missing, threads, feature_names, feature_types, enable_categorical)\u001b[0m\n\u001b[1;32m    572\u001b[0m     \u001b[0;32mif\u001b[0m \u001b[0m_is_pandas_df\u001b[0m\u001b[0;34m(\u001b[0m\u001b[0mdata\u001b[0m\u001b[0;34m)\u001b[0m\u001b[0;34m:\u001b[0m\u001b[0;34m\u001b[0m\u001b[0;34m\u001b[0m\u001b[0m\n\u001b[1;32m    573\u001b[0m         return _from_pandas_df(data, enable_categorical, missing, threads,\n\u001b[0;32m--> 574\u001b[0;31m                                feature_names, feature_types)\n\u001b[0m\u001b[1;32m    575\u001b[0m     \u001b[0;32mif\u001b[0m \u001b[0m_is_pandas_series\u001b[0m\u001b[0;34m(\u001b[0m\u001b[0mdata\u001b[0m\u001b[0;34m)\u001b[0m\u001b[0;34m:\u001b[0m\u001b[0;34m\u001b[0m\u001b[0;34m\u001b[0m\u001b[0m\n\u001b[1;32m    576\u001b[0m         return _from_pandas_series(data, missing, threads, feature_names,\n",
      "\u001b[0;32m~/.pyenv/versions/3.7.3/lib/python3.7/site-packages/xgboost/data.py\u001b[0m in \u001b[0;36m_from_pandas_df\u001b[0;34m(data, enable_categorical, missing, nthread, feature_names, feature_types)\u001b[0m\n\u001b[1;32m    257\u001b[0m                     feature_names, feature_types):\n\u001b[1;32m    258\u001b[0m     data, feature_names, feature_types = _transform_pandas_df(\n\u001b[0;32m--> 259\u001b[0;31m         data, enable_categorical, feature_names, feature_types)\n\u001b[0m\u001b[1;32m    260\u001b[0m     return _from_numpy_array(data, missing, nthread, feature_names,\n\u001b[1;32m    261\u001b[0m                              feature_types)\n",
      "\u001b[0;32m~/.pyenv/versions/3.7.3/lib/python3.7/site-packages/xgboost/data.py\u001b[0m in \u001b[0;36m_transform_pandas_df\u001b[0;34m(data, enable_categorical, feature_names, feature_types, meta, meta_type)\u001b[0m\n\u001b[1;32m    221\u001b[0m                 \u001b[0mcategorical\u001b[0m \u001b[0mtype\u001b[0m \u001b[0;32mis\u001b[0m \u001b[0msupplied\u001b[0m\u001b[0;34m,\u001b[0m \u001b[0mDMatrix\u001b[0m \u001b[0mparameter\u001b[0m\u001b[0;34m\u001b[0m\u001b[0;34m\u001b[0m\u001b[0m\n\u001b[1;32m    222\u001b[0m                 `enable_categorical` must be set to `True`.\"\"\"\n\u001b[0;32m--> 223\u001b[0;31m         \u001b[0;32mraise\u001b[0m \u001b[0mValueError\u001b[0m\u001b[0;34m(\u001b[0m\u001b[0mmsg\u001b[0m \u001b[0;34m+\u001b[0m \u001b[0;34m', '\u001b[0m\u001b[0;34m.\u001b[0m\u001b[0mjoin\u001b[0m\u001b[0;34m(\u001b[0m\u001b[0mbad_fields\u001b[0m\u001b[0;34m)\u001b[0m\u001b[0;34m)\u001b[0m\u001b[0;34m\u001b[0m\u001b[0;34m\u001b[0m\u001b[0m\n\u001b[0m\u001b[1;32m    224\u001b[0m \u001b[0;34m\u001b[0m\u001b[0m\n\u001b[1;32m    225\u001b[0m     \u001b[0;32mif\u001b[0m \u001b[0mfeature_names\u001b[0m \u001b[0;32mis\u001b[0m \u001b[0;32mNone\u001b[0m \u001b[0;32mand\u001b[0m \u001b[0mmeta\u001b[0m \u001b[0;32mis\u001b[0m \u001b[0;32mNone\u001b[0m\u001b[0;34m:\u001b[0m\u001b[0;34m\u001b[0m\u001b[0;34m\u001b[0m\u001b[0m\n",
      "\u001b[0;31mValueError\u001b[0m: DataFrame.dtypes for data must be int, float, bool or categorical.  When\n                categorical type is supplied, DMatrix parameter\n                `enable_categorical` must be set to `True`.Segment"
     ]
    }
   ],
   "source": [
    "xgb_model = xgb.XGBClassifier().fit(X_train, y_train)\n",
    "print('Accuracy of XGB classifier on training set: {:.2f}'\n",
    "       .format(xgb_model.score(X_train, y_train)))\n",
    "print('Accuracy of XGB classifier on test set: {:.2f}'\n",
    "       .format(xgb_model.score(X_test[X_train.columns], y_test)))"
   ]
  },
  {
   "cell_type": "code",
   "execution_count": null,
   "metadata": {},
   "outputs": [],
   "source": [
    "from sklearn.model_selection import GridSearchCV\n",
    "\n",
    "param_test1 = {\n",
    " 'max_depth':range(3,10,2),\n",
    " 'min_child_weight':range(1,6,2)\n",
    "}\n",
    "gsearch1 = GridSearchCV(estimator = xgb.XGBClassifier(), \n",
    "param_grid = param_test1, scoring='accuracy',n_jobs=-1, cv=2)\n",
    "gsearch1.fit(X_train,y_train)\n",
    "gsearch1.best_params_, gsearch1.best_score_"
   ]
  },
  {
   "cell_type": "code",
   "execution_count": null,
   "metadata": {},
   "outputs": [],
   "source": [
    "xgb_model = xgb.XGBClassifier(max_depth = , min_child_weight = ).fit(X_train, y_train)\n",
    "print('Accuracy of XGB classifier on training set: {:.2f}'\n",
    "       .format(xgb_model.score(X_train, y_train)))\n",
    "print('Accuracy of XGB classifier on test set: {:.2f}'\n",
    "       .format(xgb_model.score(X_test[X_train.columns], y_test)))"
   ]
  },
  {
   "cell_type": "code",
   "execution_count": null,
   "metadata": {},
   "outputs": [],
   "source": [
    "gsearch2 = GridSearchCV(estimator = SVC(), \n",
    "param_grid = param_test1, scoring='accuracy',n_jobs=-1, cv=2)\n",
    "gsearch2.fit(X_train,y_train)\n",
    "gsearch2.best_params_, gsearch1.best_score_"
   ]
  },
  {
   "cell_type": "code",
   "execution_count": null,
   "metadata": {},
   "outputs": [],
   "source": []
  }
 ],
 "metadata": {
  "kernelspec": {
   "display_name": "Python 3",
   "language": "python",
   "name": "python3"
  },
  "language_info": {
   "codemirror_mode": {
    "name": "ipython",
    "version": 3
   },
   "file_extension": ".py",
   "mimetype": "text/x-python",
   "name": "python",
   "nbconvert_exporter": "python",
   "pygments_lexer": "ipython3",
   "version": "3.7.3"
  }
 },
 "nbformat": 4,
 "nbformat_minor": 5
}
